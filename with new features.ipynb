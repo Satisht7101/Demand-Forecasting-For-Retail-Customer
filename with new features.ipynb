{
 "cells": [
  {
   "cell_type": "code",
   "execution_count": 1,
   "metadata": {},
   "outputs": [],
   "source": [
    "import numpy as np\n",
    "import pandas as pd\n",
    "import os\n",
    "import matplotlib.pyplot as plt\n",
    "import seaborn as sns\n",
    "%matplotlib inline\n",
    "from sklearn.model_selection import train_test_split\n",
    "from sklearn.linear_model import LinearRegression\n",
    "from sklearn.ensemble import RandomForestRegressor\n",
    "from xgboost import XGBRegressor\n",
    "from sklearn.preprocessing import minmax_scale,StandardScaler\n",
    "from sklearn.metrics import mean_squared_error, r2_score,mean_absolute_error\n",
    "from sklearn.preprocessing import PolynomialFeatures\n",
    "from sklearn.preprocessing import LabelEncoder\n",
    "directory_DRG =r\"C:\\Users\\syed.s\\Desktop\\R10x_imp\\DRG\"\n",
    "directory_weather=r\"C:\\Users\\syed.s\\Desktop\\R10x_imp\\Weather\"\n",
    "directory_events=r\"C:\\Users\\syed.s\\Desktop\\R10x_imp\\Events\""
   ]
  },
  {
   "cell_type": "code",
   "execution_count": 2,
   "metadata": {},
   "outputs": [],
   "source": [
    "import pandas as pd\n",
    "import numpy as np\n",
    "import matplotlib.pyplot as plt\n",
    "import seaborn as sns\n",
    "%matplotlib inline"
   ]
  },
  {
   "cell_type": "code",
   "execution_count": 3,
   "metadata": {},
   "outputs": [],
   "source": [
    "data_events=pd.DataFrame(columns=['Date','Day','Event','WeekEnd','Holiday','LongVacation','HighSales'])\n",
    "for i in os.listdir(directory_events):\n",
    "    df=pd.read_csv('C:\\\\Users\\\\syed.s\\\\Desktop\\\\R10x_imp\\\\Events\\\\'+str(i))\n",
    "    #df=df.drop(columns=['size'],axis=1,inplace =True)\n",
    "    #df.to_csv('C:\\\\Users\\\\syed.s\\\\Documents\\\\RX100\\\\DRG\\\\DRG_updated\\\\'+str(i))\n",
    "    data_events = pd.concat([data_events,df],ignore_index=True)\n",
    "    #ddf.append(df)"
   ]
  },
  {
   "cell_type": "code",
   "execution_count": 4,
   "metadata": {},
   "outputs": [],
   "source": [
    "data_events['Date']= pd.to_datetime(data_events['Date'],format='%d/%m/%Y')"
   ]
  },
  {
   "cell_type": "code",
   "execution_count": 5,
   "metadata": {},
   "outputs": [],
   "source": [
    "data_400=pd.read_csv('data_4001.csv')"
   ]
  },
  {
   "cell_type": "code",
   "execution_count": 6,
   "metadata": {},
   "outputs": [],
   "source": [
    "data_trans=pd.read_csv('transaction.csv')"
   ]
  },
  {
   "cell_type": "code",
   "execution_count": 7,
   "metadata": {},
   "outputs": [],
   "source": [
    "data_rem=pd.read_csv('remaining.csv')"
   ]
  },
  {
   "cell_type": "code",
   "execution_count": 8,
   "metadata": {},
   "outputs": [
    {
     "name": "stdout",
     "output_type": "stream",
     "text": [
      "<class 'pandas.core.frame.DataFrame'>\n",
      "RangeIndex: 34 entries, 0 to 33\n",
      "Data columns (total 6 columns):\n",
      "Unnamed: 0      34 non-null int64\n",
      "upc_code        34 non-null float64\n",
      "unit_price_x    33 non-null float64\n",
      "unit_price_y    33 non-null float64\n",
      "average         32 non-null float64\n",
      "percentage      32 non-null float64\n",
      "dtypes: float64(5), int64(1)\n",
      "memory usage: 1.7 KB\n"
     ]
    }
   ],
   "source": [
    "data_rem.info()"
   ]
  },
  {
   "cell_type": "code",
   "execution_count": 9,
   "metadata": {},
   "outputs": [],
   "source": [
    "data_400['date']= pd.to_datetime(data_400['date'])"
   ]
  },
  {
   "cell_type": "code",
   "execution_count": 10,
   "metadata": {},
   "outputs": [
    {
     "name": "stdout",
     "output_type": "stream",
     "text": [
      "<class 'pandas.core.frame.DataFrame'>\n",
      "RangeIndex: 9580 entries, 0 to 9579\n",
      "Data columns (total 25 columns):\n",
      "Unnamed: 0    9580 non-null int64\n",
      "store_id      9580 non-null int64\n",
      "upc_code      9580 non-null int64\n",
      "item_name     9580 non-null object\n",
      "date          9580 non-null datetime64[ns]\n",
      "amount        9580 non-null float64\n",
      "quantity      9580 non-null int64\n",
      "unit_price    9580 non-null float64\n",
      "category      0 non-null float64\n",
      "size          7564 non-null object\n",
      "msu           9580 non-null int64\n",
      "PDT           8678 non-null object\n",
      "mintempm      8678 non-null float64\n",
      "maxtempm      8678 non-null float64\n",
      "meantempm     8678 non-null float64\n",
      "mintempi      8678 non-null float64\n",
      "maxtempi      8678 non-null float64\n",
      "meantempi     9580 non-null int64\n",
      "fog           8678 non-null float64\n",
      "rain          8678 non-null float64\n",
      "snow          8678 non-null float64\n",
      "hail          8678 non-null float64\n",
      "thunder       8678 non-null float64\n",
      "tornado       8678 non-null float64\n",
      "Temp_Types    9580 non-null object\n",
      "dtypes: datetime64[ns](1), float64(14), int64(6), object(4)\n",
      "memory usage: 1.8+ MB\n"
     ]
    }
   ],
   "source": [
    "data_400.info()"
   ]
  },
  {
   "cell_type": "code",
   "execution_count": 11,
   "metadata": {},
   "outputs": [],
   "source": [
    "data_events.rename(columns={'Date':'date'},inplace=True)"
   ]
  },
  {
   "cell_type": "code",
   "execution_count": 12,
   "metadata": {},
   "outputs": [],
   "source": [
    "from datetime import datetime"
   ]
  },
  {
   "cell_type": "code",
   "execution_count": 13,
   "metadata": {},
   "outputs": [],
   "source": [
    "final_data=pd.merge(data_400,data_events,how='left',on='date')"
   ]
  },
  {
   "cell_type": "code",
   "execution_count": 14,
   "metadata": {},
   "outputs": [
    {
     "name": "stdout",
     "output_type": "stream",
     "text": [
      "<class 'pandas.core.frame.DataFrame'>\n",
      "Int64Index: 9600 entries, 0 to 9599\n",
      "Data columns (total 31 columns):\n",
      "Unnamed: 0      9600 non-null int64\n",
      "store_id        9600 non-null int64\n",
      "upc_code        9600 non-null int64\n",
      "item_name       9600 non-null object\n",
      "date            9600 non-null datetime64[ns]\n",
      "amount          9600 non-null float64\n",
      "quantity        9600 non-null int64\n",
      "unit_price      9600 non-null float64\n",
      "category        0 non-null float64\n",
      "size            7580 non-null object\n",
      "msu             9600 non-null int64\n",
      "PDT             8698 non-null object\n",
      "mintempm        8698 non-null float64\n",
      "maxtempm        8698 non-null float64\n",
      "meantempm       8698 non-null float64\n",
      "mintempi        8698 non-null float64\n",
      "maxtempi        8698 non-null float64\n",
      "meantempi       9600 non-null int64\n",
      "fog             8698 non-null float64\n",
      "rain            8698 non-null float64\n",
      "snow            8698 non-null float64\n",
      "hail            8698 non-null float64\n",
      "thunder         8698 non-null float64\n",
      "tornado         8698 non-null float64\n",
      "Temp_Types      9600 non-null object\n",
      "Day             3959 non-null object\n",
      "Event           3959 non-null object\n",
      "WeekEnd         3959 non-null object\n",
      "Holiday         3959 non-null object\n",
      "LongVacation    3959 non-null object\n",
      "HighSales       3959 non-null object\n",
      "dtypes: datetime64[ns](1), float64(14), int64(6), object(10)\n",
      "memory usage: 2.3+ MB\n"
     ]
    }
   ],
   "source": [
    "final_data.info()"
   ]
  },
  {
   "cell_type": "code",
   "execution_count": null,
   "metadata": {},
   "outputs": [],
   "source": []
  }
 ],
 "metadata": {
  "kernelspec": {
   "display_name": "Python 3 (ipykernel)",
   "language": "python",
   "name": "python3"
  },
  "language_info": {
   "codemirror_mode": {
    "name": "ipython",
    "version": 3
   },
   "file_extension": ".py",
   "mimetype": "text/x-python",
   "name": "python",
   "nbconvert_exporter": "python",
   "pygments_lexer": "ipython3",
   "version": "3.9.7"
  }
 },
 "nbformat": 4,
 "nbformat_minor": 2
}
