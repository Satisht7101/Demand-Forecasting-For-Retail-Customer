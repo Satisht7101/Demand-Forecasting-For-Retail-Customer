{
 "cells": [
  {
   "cell_type": "code",
   "execution_count": 1,
   "metadata": {},
   "outputs": [],
   "source": [
    "import pandas as pd\n",
    "import numpy as np\n",
    "import matplotlib.pyplot as plt\n",
    "import seaborn as sns\n",
    "%matplotlib inline"
   ]
  },
  {
   "cell_type": "code",
   "execution_count": 2,
   "metadata": {},
   "outputs": [],
   "source": [
    "import numpy as np\n",
    "import pandas as pd\n",
    "import os\n",
    "import matplotlib.pyplot as plt\n",
    "import seaborn as sns\n",
    "%matplotlib inline\n",
    "from sklearn.model_selection import train_test_split\n",
    "from sklearn.linear_model import LinearRegression\n",
    "from sklearn.ensemble import RandomForestRegressor\n",
    "#from xgboost import XGBRegressor\n",
    "from sklearn.preprocessing import minmax_scale,StandardScaler\n",
    "from sklearn.metrics import mean_squared_error, r2_score,mean_absolute_error\n",
    "from sklearn.preprocessing import PolynomialFeatures\n",
    "from sklearn.preprocessing import LabelEncoder\n",
    "#\"C:\\Users\\Admin\\OneDrive - O365Sonata\\Documents\\R10x\"\n",
    "directory_DRG =r\"C:\\Users\\Admin\\OneDrive - O365Sonata\\Documents\\R10x\\DRG\"\n",
    "directory_weather=r\"C:\\Users\\Admin\\OneDrive - O365Sonata\\Documents\\R10x\\Weather\"\n",
    "directory_events=r\"C:\\Users\\Admin\\OneDrive - O365Sonata\\Documents\\R10x\\Events\""
   ]
  },
  {
   "cell_type": "code",
   "execution_count": 3,
   "metadata": {},
   "outputs": [],
   "source": [
    "#Merging alll product files into single file\n",
    "data_Products=pd.DataFrame(columns=['store_id','upc_code','item_name','date','amount','quantity','unit_price','category','size','msu'])\n",
    "for i in os.listdir(directory_DRG):\n",
    "    df=pd.read_csv('C:\\\\Users\\\\Admin\\\\OneDrive - O365Sonata\\\\Documents\\\\R10x\\\\DRG\\\\'+str(i))\n",
    "    #df=df.drop(columns=['size'],axis=1,inplace =True)\n",
    "    #df.to_csv('C:\\\\Users\\\\syed.s\\\\Documents\\\\RX100\\\\DRG\\\\DRG_updated\\\\'+str(i))\n",
    "    data_Products = pd.concat([data_Products,df],ignore_index=True)\n",
    "    #ddf.append(df)"
   ]
  },
  {
   "cell_type": "code",
   "execution_count": 4,
   "metadata": {},
   "outputs": [
    {
     "data": {
      "text/plain": [
       "34"
      ]
     },
     "execution_count": 4,
     "metadata": {},
     "output_type": "execute_result"
    }
   ],
   "source": [
    "len(data_Products['upc_code'].value_counts())"
   ]
  },
  {
   "cell_type": "code",
   "execution_count": 5,
   "metadata": {},
   "outputs": [
    {
     "name": "stdout",
     "output_type": "stream",
     "text": [
      "weather_90.txt\n"
     ]
    }
   ],
   "source": [
    "#Merging alll weather files into single file\n",
    "#weather=pd.DataFrame(columns=['PDT','mintempm','maxtempm','meantempm','mintempi','maxtempi','meantempi','fog','rain','snow','hail','thunder','tornado'])\n",
    "data_weather=pd.DataFrame()\n",
    "for i in os.listdir(directory_weather):\n",
    "    print(i)\n",
    "    df=pd.read_csv('C:\\\\Users\\\\Admin\\\\OneDrive - O365Sonata\\\\Documents\\\\R10x\\\\Weather\\\\'+str(i),sep=\",\",header=None)\n",
    "    #df=df.drop(columns=['size'],axis=1,inplace =True)\n",
    "    #df.to_csv('C:\\\\Users\\\\syed.s\\\\Documents\\\\RX100\\\\DRG\\\\DRG_updated\\\\'+str(i))\n",
    "    data_weather = pd.concat([data_weather,df],ignore_index=True)\n",
    "    data_weather=data_weather[1:]\n",
    "    #ddf.append(df)"
   ]
  },
  {
   "cell_type": "code",
   "execution_count": 6,
   "metadata": {},
   "outputs": [],
   "source": [
    "data_weather.columns=['PDT','mintempm','maxtempm','meantempm','mintempi','maxtempi','meantempi','fog','rain','snow','hail','thunder','tornado']"
   ]
  },
  {
   "cell_type": "code",
   "execution_count": 7,
   "metadata": {},
   "outputs": [],
   "source": [
    "data_events=pd.DataFrame(columns=['Date','Day','Event','WeekEnd','Holiday','LongVacation','HighSales'])\n",
    "for i in os.listdir(directory_events):\n",
    "    df=pd.read_csv('C:\\\\Users\\\\Admin\\\\OneDrive - O365Sonata\\\\Documents\\\\R10x\\\\Events\\\\'+str(i))\n",
    "    #df=df.drop(columns=['size'],axis=1,inplace =True)\n",
    "    #df.to_csv('C:\\\\Users\\\\syed.s\\\\Documents\\\\RX100\\\\DRG\\\\DRG_updated\\\\'+str(i))\n",
    "    data_events = pd.concat([data_events,df],ignore_index=True)\n",
    "    #ddf.append(df)"
   ]
  },
  {
   "cell_type": "code",
   "execution_count": 8,
   "metadata": {},
   "outputs": [
    {
     "data": {
      "text/html": [
       "<div>\n",
       "<style scoped>\n",
       "    .dataframe tbody tr th:only-of-type {\n",
       "        vertical-align: middle;\n",
       "    }\n",
       "\n",
       "    .dataframe tbody tr th {\n",
       "        vertical-align: top;\n",
       "    }\n",
       "\n",
       "    .dataframe thead th {\n",
       "        text-align: right;\n",
       "    }\n",
       "</style>\n",
       "<table border=\"1\" class=\"dataframe\">\n",
       "  <thead>\n",
       "    <tr style=\"text-align: right;\">\n",
       "      <th></th>\n",
       "      <th>Date</th>\n",
       "      <th>Day</th>\n",
       "      <th>Event</th>\n",
       "      <th>WeekEnd</th>\n",
       "      <th>Holiday</th>\n",
       "      <th>LongVacation</th>\n",
       "      <th>HighSales</th>\n",
       "    </tr>\n",
       "  </thead>\n",
       "  <tbody>\n",
       "    <tr>\n",
       "      <th>0</th>\n",
       "      <td>1/1/2018</td>\n",
       "      <td>Monday</td>\n",
       "      <td>New Year</td>\n",
       "      <td>1</td>\n",
       "      <td>1</td>\n",
       "      <td>1</td>\n",
       "      <td>0</td>\n",
       "    </tr>\n",
       "    <tr>\n",
       "      <th>1</th>\n",
       "      <td>2/1/2018</td>\n",
       "      <td>Tuesday</td>\n",
       "      <td>Prior Dia de los Re1 Magos/Three Kings Day</td>\n",
       "      <td>0</td>\n",
       "      <td>0</td>\n",
       "      <td>0</td>\n",
       "      <td>1</td>\n",
       "    </tr>\n",
       "    <tr>\n",
       "      <th>2</th>\n",
       "      <td>3/1/2018</td>\n",
       "      <td>Wednesday</td>\n",
       "      <td>Prior Dia de los Re1 Magos/Three Kings Day</td>\n",
       "      <td>0</td>\n",
       "      <td>0</td>\n",
       "      <td>0</td>\n",
       "      <td>1</td>\n",
       "    </tr>\n",
       "    <tr>\n",
       "      <th>3</th>\n",
       "      <td>4/1/2018</td>\n",
       "      <td>Thursday</td>\n",
       "      <td>Prior Dia de los Re1 Magos/Three Kings Day</td>\n",
       "      <td>0</td>\n",
       "      <td>0</td>\n",
       "      <td>0</td>\n",
       "      <td>1</td>\n",
       "    </tr>\n",
       "    <tr>\n",
       "      <th>4</th>\n",
       "      <td>5/1/2018</td>\n",
       "      <td>Friday</td>\n",
       "      <td>Prior Dia de los Re1 Magos/Three Kings Day</td>\n",
       "      <td>0</td>\n",
       "      <td>0</td>\n",
       "      <td>0</td>\n",
       "      <td>1</td>\n",
       "    </tr>\n",
       "  </tbody>\n",
       "</table>\n",
       "</div>"
      ],
      "text/plain": [
       "       Date        Day                                       Event WeekEnd  \\\n",
       "0  1/1/2018     Monday                                    New Year       1   \n",
       "1  2/1/2018    Tuesday  Prior Dia de los Re1 Magos/Three Kings Day       0   \n",
       "2  3/1/2018  Wednesday  Prior Dia de los Re1 Magos/Three Kings Day       0   \n",
       "3  4/1/2018   Thursday  Prior Dia de los Re1 Magos/Three Kings Day       0   \n",
       "4  5/1/2018     Friday  Prior Dia de los Re1 Magos/Three Kings Day       0   \n",
       "\n",
       "  Holiday LongVacation HighSales  \n",
       "0       1            1         0  \n",
       "1       0            0         1  \n",
       "2       0            0         1  \n",
       "3       0            0         1  \n",
       "4       0            0         1  "
      ]
     },
     "execution_count": 8,
     "metadata": {},
     "output_type": "execute_result"
    }
   ],
   "source": [
    "data_events.head()"
   ]
  },
  {
   "cell_type": "code",
   "execution_count": null,
   "metadata": {},
   "outputs": [],
   "source": []
  },
  {
   "cell_type": "code",
   "execution_count": 9,
   "metadata": {},
   "outputs": [],
   "source": [
    "data_Products['store_id']=90\n",
    "data_weather['store_id']=90"
   ]
  },
  {
   "cell_type": "code",
   "execution_count": 10,
   "metadata": {},
   "outputs": [],
   "source": [
    "data_weather['store_id']=data_weather['store_id'].astype(int)\n",
    "data_Products['store_id']=data_Products['store_id'].astype(int)"
   ]
  },
  {
   "cell_type": "code",
   "execution_count": 11,
   "metadata": {},
   "outputs": [
    {
     "data": {
      "text/html": [
       "<div>\n",
       "<style scoped>\n",
       "    .dataframe tbody tr th:only-of-type {\n",
       "        vertical-align: middle;\n",
       "    }\n",
       "\n",
       "    .dataframe tbody tr th {\n",
       "        vertical-align: top;\n",
       "    }\n",
       "\n",
       "    .dataframe thead th {\n",
       "        text-align: right;\n",
       "    }\n",
       "</style>\n",
       "<table border=\"1\" class=\"dataframe\">\n",
       "  <thead>\n",
       "    <tr style=\"text-align: right;\">\n",
       "      <th></th>\n",
       "      <th>PDT</th>\n",
       "      <th>mintempm</th>\n",
       "      <th>maxtempm</th>\n",
       "      <th>meantempm</th>\n",
       "      <th>mintempi</th>\n",
       "      <th>maxtempi</th>\n",
       "      <th>meantempi</th>\n",
       "      <th>fog</th>\n",
       "      <th>rain</th>\n",
       "      <th>snow</th>\n",
       "      <th>hail</th>\n",
       "      <th>thunder</th>\n",
       "      <th>tornado</th>\n",
       "      <th>store_id</th>\n",
       "    </tr>\n",
       "  </thead>\n",
       "  <tbody>\n",
       "    <tr>\n",
       "      <th>1</th>\n",
       "      <td>2014-01-01</td>\n",
       "      <td>0</td>\n",
       "      <td>15</td>\n",
       "      <td>8</td>\n",
       "      <td>32</td>\n",
       "      <td>59</td>\n",
       "      <td>46</td>\n",
       "      <td>0</td>\n",
       "      <td>0</td>\n",
       "      <td>0</td>\n",
       "      <td>0</td>\n",
       "      <td>0</td>\n",
       "      <td>0</td>\n",
       "      <td>90</td>\n",
       "    </tr>\n",
       "    <tr>\n",
       "      <th>2</th>\n",
       "      <td>2014-01-02</td>\n",
       "      <td>2</td>\n",
       "      <td>17</td>\n",
       "      <td>9</td>\n",
       "      <td>35</td>\n",
       "      <td>62</td>\n",
       "      <td>48</td>\n",
       "      <td>0</td>\n",
       "      <td>0</td>\n",
       "      <td>0</td>\n",
       "      <td>0</td>\n",
       "      <td>0</td>\n",
       "      <td>0</td>\n",
       "      <td>90</td>\n",
       "    </tr>\n",
       "    <tr>\n",
       "      <th>3</th>\n",
       "      <td>2014-01-03</td>\n",
       "      <td>3</td>\n",
       "      <td>16</td>\n",
       "      <td>9</td>\n",
       "      <td>37</td>\n",
       "      <td>60</td>\n",
       "      <td>48</td>\n",
       "      <td>0</td>\n",
       "      <td>0</td>\n",
       "      <td>0</td>\n",
       "      <td>0</td>\n",
       "      <td>0</td>\n",
       "      <td>0</td>\n",
       "      <td>90</td>\n",
       "    </tr>\n",
       "    <tr>\n",
       "      <th>4</th>\n",
       "      <td>2014-01-04</td>\n",
       "      <td>3</td>\n",
       "      <td>20</td>\n",
       "      <td>11</td>\n",
       "      <td>37</td>\n",
       "      <td>68</td>\n",
       "      <td>52</td>\n",
       "      <td>1</td>\n",
       "      <td>0</td>\n",
       "      <td>0</td>\n",
       "      <td>0</td>\n",
       "      <td>0</td>\n",
       "      <td>0</td>\n",
       "      <td>90</td>\n",
       "    </tr>\n",
       "    <tr>\n",
       "      <th>5</th>\n",
       "      <td>2014-01-05</td>\n",
       "      <td>1</td>\n",
       "      <td>19</td>\n",
       "      <td>10</td>\n",
       "      <td>33</td>\n",
       "      <td>66</td>\n",
       "      <td>50</td>\n",
       "      <td>0</td>\n",
       "      <td>0</td>\n",
       "      <td>0</td>\n",
       "      <td>0</td>\n",
       "      <td>0</td>\n",
       "      <td>0</td>\n",
       "      <td>90</td>\n",
       "    </tr>\n",
       "  </tbody>\n",
       "</table>\n",
       "</div>"
      ],
      "text/plain": [
       "          PDT mintempm maxtempm meantempm mintempi maxtempi meantempi fog  \\\n",
       "1  2014-01-01        0       15         8       32       59        46   0   \n",
       "2  2014-01-02        2       17         9       35       62        48   0   \n",
       "3  2014-01-03        3       16         9       37       60        48   0   \n",
       "4  2014-01-04        3       20        11       37       68        52   1   \n",
       "5  2014-01-05        1       19        10       33       66        50   0   \n",
       "\n",
       "  rain snow hail thunder tornado  store_id  \n",
       "1    0    0    0       0       0        90  \n",
       "2    0    0    0       0       0        90  \n",
       "3    0    0    0       0       0        90  \n",
       "4    0    0    0       0       0        90  \n",
       "5    0    0    0       0       0        90  "
      ]
     },
     "execution_count": 11,
     "metadata": {},
     "output_type": "execute_result"
    }
   ],
   "source": [
    "data_weather.head()"
   ]
  },
  {
   "cell_type": "code",
   "execution_count": 12,
   "metadata": {},
   "outputs": [
    {
     "name": "stdout",
     "output_type": "stream",
     "text": [
      "<class 'pandas.core.frame.DataFrame'>\n",
      "RangeIndex: 45734 entries, 0 to 45733\n",
      "Data columns (total 10 columns):\n",
      " #   Column      Non-Null Count  Dtype  \n",
      "---  ------      --------------  -----  \n",
      " 0   store_id    45734 non-null  int32  \n",
      " 1   upc_code    45734 non-null  object \n",
      " 2   item_name   45734 non-null  object \n",
      " 3   date        45734 non-null  object \n",
      " 4   amount      45734 non-null  float64\n",
      " 5   quantity    45734 non-null  object \n",
      " 6   unit_price  45734 non-null  float64\n",
      " 7   category    0 non-null      float64\n",
      " 8   size        35537 non-null  object \n",
      " 9   msu         45734 non-null  object \n",
      "dtypes: float64(3), int32(1), object(6)\n",
      "memory usage: 3.3+ MB\n"
     ]
    }
   ],
   "source": [
    "data_Products.info()"
   ]
  },
  {
   "cell_type": "code",
   "execution_count": 13,
   "metadata": {},
   "outputs": [
    {
     "data": {
      "text/plain": [
       "array([710114, 711814, 712118, 712415, 712811, 712910, 712927, 713115,\n",
       "       252174000007, 252175000006, 252176000005, 252179000002,\n",
       "       257251000000, 257252000009, 257253000008, 257254000007,\n",
       "       257255000006, 257256000005, 257257000004, 257265000003,\n",
       "       257266000002, 257267000001, 257268000000, 257272000003,\n",
       "       271011000000, 271078000005, 271124000003, 271181000008,\n",
       "       271211000008, 271241000009, 271281000007, 271291000004,\n",
       "       271292000003, 271311000007], dtype=object)"
      ]
     },
     "execution_count": 13,
     "metadata": {},
     "output_type": "execute_result"
    }
   ],
   "source": [
    "data_Products.upc_code.unique()"
   ]
  },
  {
   "cell_type": "code",
   "execution_count": 14,
   "metadata": {},
   "outputs": [
    {
     "name": "stdout",
     "output_type": "stream",
     "text": [
      "<class 'pandas.core.frame.DataFrame'>\n",
      "RangeIndex: 1931 entries, 1 to 1931\n",
      "Data columns (total 14 columns):\n",
      " #   Column     Non-Null Count  Dtype \n",
      "---  ------     --------------  ----- \n",
      " 0   PDT        1931 non-null   object\n",
      " 1   mintempm   1931 non-null   object\n",
      " 2   maxtempm   1931 non-null   object\n",
      " 3   meantempm  1931 non-null   object\n",
      " 4   mintempi   1931 non-null   object\n",
      " 5   maxtempi   1931 non-null   object\n",
      " 6   meantempi  1931 non-null   object\n",
      " 7   fog        1931 non-null   object\n",
      " 8   rain       1931 non-null   object\n",
      " 9   snow       1931 non-null   object\n",
      " 10  hail       1931 non-null   object\n",
      " 11  thunder    1931 non-null   object\n",
      " 12  tornado    1931 non-null   object\n",
      " 13  store_id   1931 non-null   int32 \n",
      "dtypes: int32(1), object(13)\n",
      "memory usage: 203.8+ KB\n"
     ]
    }
   ],
   "source": [
    "data_weather.info()"
   ]
  },
  {
   "cell_type": "code",
   "execution_count": 15,
   "metadata": {},
   "outputs": [
    {
     "name": "stdout",
     "output_type": "stream",
     "text": [
      "<class 'pandas.core.frame.DataFrame'>\n",
      "RangeIndex: 281 entries, 0 to 280\n",
      "Data columns (total 7 columns):\n",
      " #   Column        Non-Null Count  Dtype \n",
      "---  ------        --------------  ----- \n",
      " 0   Date          281 non-null    object\n",
      " 1   Day           281 non-null    object\n",
      " 2   Event         281 non-null    object\n",
      " 3   WeekEnd       281 non-null    object\n",
      " 4   Holiday       281 non-null    object\n",
      " 5   LongVacation  281 non-null    object\n",
      " 6   HighSales     281 non-null    object\n",
      "dtypes: object(7)\n",
      "memory usage: 15.5+ KB\n"
     ]
    }
   ],
   "source": [
    "data_events.info()"
   ]
  },
  {
   "cell_type": "code",
   "execution_count": 16,
   "metadata": {},
   "outputs": [],
   "source": [
    "dictTempLabels = {'V_COLD':[-10,40],\n",
    "                'COLD':[40,60],\n",
    "                'MODERATE':[60,80],\n",
    "               'HOT':[80,100],\n",
    "             'V_HOT':[100,150]}"
   ]
  },
  {
   "cell_type": "code",
   "execution_count": 17,
   "metadata": {},
   "outputs": [],
   "source": [
    "def SetTempBucket(refVal):    \n",
    "    for k,(low_val,high_val) in dictTempLabels.items():\n",
    "        if (refVal >= low_val and refVal < high_val): \n",
    "            TempLabel = k\n",
    "            break;\n",
    "            \n",
    "    return TempLabel"
   ]
  },
  {
   "cell_type": "code",
   "execution_count": 18,
   "metadata": {},
   "outputs": [
    {
     "name": "stdout",
     "output_type": "stream",
     "text": [
      "<class 'pandas.core.frame.DataFrame'>\n",
      "RangeIndex: 1931 entries, 1 to 1931\n",
      "Data columns (total 14 columns):\n",
      " #   Column     Non-Null Count  Dtype \n",
      "---  ------     --------------  ----- \n",
      " 0   PDT        1931 non-null   object\n",
      " 1   mintempm   1931 non-null   object\n",
      " 2   maxtempm   1931 non-null   object\n",
      " 3   meantempm  1931 non-null   object\n",
      " 4   mintempi   1931 non-null   object\n",
      " 5   maxtempi   1931 non-null   object\n",
      " 6   meantempi  1931 non-null   object\n",
      " 7   fog        1931 non-null   object\n",
      " 8   rain       1931 non-null   object\n",
      " 9   snow       1931 non-null   object\n",
      " 10  hail       1931 non-null   object\n",
      " 11  thunder    1931 non-null   object\n",
      " 12  tornado    1931 non-null   object\n",
      " 13  store_id   1931 non-null   int32 \n",
      "dtypes: int32(1), object(13)\n",
      "memory usage: 203.8+ KB\n"
     ]
    }
   ],
   "source": [
    "data_weather.info()"
   ]
  },
  {
   "cell_type": "code",
   "execution_count": 19,
   "metadata": {},
   "outputs": [],
   "source": [
    "#Joined product data and weather data with date and store\n",
    "data_weather['PDT']=pd.to_datetime(data_weather['PDT'])\n",
    "data_Products['date']= pd.to_datetime(data_Products['date'])\n",
    "final_data=pd.merge(data_Products,data_weather,how='left',left_on=['date','store_id'],right_on=['PDT','store_id'])\n",
    "#Fill the null values of meantempi with median\n",
    "final_data['meantempi']=final_data['meantempi'].fillna(final_data['meantempi'].median())\n",
    "final_data['meantempi']=final_data['meantempi'].astype('int64') "
   ]
  },
  {
   "cell_type": "code",
   "execution_count": 20,
   "metadata": {},
   "outputs": [
    {
     "name": "stdout",
     "output_type": "stream",
     "text": [
      "<class 'pandas.core.frame.DataFrame'>\n",
      "Int64Index: 45734 entries, 0 to 45733\n",
      "Data columns (total 23 columns):\n",
      " #   Column      Non-Null Count  Dtype         \n",
      "---  ------      --------------  -----         \n",
      " 0   store_id    45734 non-null  int32         \n",
      " 1   upc_code    45734 non-null  object        \n",
      " 2   item_name   45734 non-null  object        \n",
      " 3   date        45734 non-null  datetime64[ns]\n",
      " 4   amount      45734 non-null  float64       \n",
      " 5   quantity    45734 non-null  object        \n",
      " 6   unit_price  45734 non-null  float64       \n",
      " 7   category    0 non-null      float64       \n",
      " 8   size        35537 non-null  object        \n",
      " 9   msu         45734 non-null  object        \n",
      " 10  PDT         43693 non-null  datetime64[ns]\n",
      " 11  mintempm    43693 non-null  object        \n",
      " 12  maxtempm    43693 non-null  object        \n",
      " 13  meantempm   43693 non-null  object        \n",
      " 14  mintempi    43693 non-null  object        \n",
      " 15  maxtempi    43693 non-null  object        \n",
      " 16  meantempi   45734 non-null  int64         \n",
      " 17  fog         43693 non-null  object        \n",
      " 18  rain        43693 non-null  object        \n",
      " 19  snow        43693 non-null  object        \n",
      " 20  hail        43693 non-null  object        \n",
      " 21  thunder     43693 non-null  object        \n",
      " 22  tornado     43693 non-null  object        \n",
      "dtypes: datetime64[ns](2), float64(3), int32(1), int64(1), object(16)\n",
      "memory usage: 8.2+ MB\n"
     ]
    }
   ],
   "source": [
    "final_data.info()"
   ]
  },
  {
   "cell_type": "code",
   "execution_count": 21,
   "metadata": {},
   "outputs": [],
   "source": [
    "#created new column temptype based on meantempi\n",
    "final_data[\"Temp_Types\"] = final_data['meantempi'].apply(SetTempBucket)"
   ]
  },
  {
   "cell_type": "code",
   "execution_count": 22,
   "metadata": {},
   "outputs": [
    {
     "data": {
      "text/html": [
       "<div>\n",
       "<style scoped>\n",
       "    .dataframe tbody tr th:only-of-type {\n",
       "        vertical-align: middle;\n",
       "    }\n",
       "\n",
       "    .dataframe tbody tr th {\n",
       "        vertical-align: top;\n",
       "    }\n",
       "\n",
       "    .dataframe thead th {\n",
       "        text-align: right;\n",
       "    }\n",
       "</style>\n",
       "<table border=\"1\" class=\"dataframe\">\n",
       "  <thead>\n",
       "    <tr style=\"text-align: right;\">\n",
       "      <th></th>\n",
       "      <th>store_id</th>\n",
       "      <th>upc_code</th>\n",
       "      <th>item_name</th>\n",
       "      <th>date</th>\n",
       "      <th>amount</th>\n",
       "      <th>quantity</th>\n",
       "      <th>unit_price</th>\n",
       "      <th>category</th>\n",
       "      <th>size</th>\n",
       "      <th>msu</th>\n",
       "      <th>...</th>\n",
       "      <th>mintempi</th>\n",
       "      <th>maxtempi</th>\n",
       "      <th>meantempi</th>\n",
       "      <th>fog</th>\n",
       "      <th>rain</th>\n",
       "      <th>snow</th>\n",
       "      <th>hail</th>\n",
       "      <th>thunder</th>\n",
       "      <th>tornado</th>\n",
       "      <th>Temp_Types</th>\n",
       "    </tr>\n",
       "  </thead>\n",
       "  <tbody>\n",
       "    <tr>\n",
       "      <th>0</th>\n",
       "      <td>90</td>\n",
       "      <td>710114</td>\n",
       "      <td>SWEET BAGUETTE</td>\n",
       "      <td>2014-01-02</td>\n",
       "      <td>39.95</td>\n",
       "      <td>17</td>\n",
       "      <td>2.35</td>\n",
       "      <td>NaN</td>\n",
       "      <td>Each</td>\n",
       "      <td>1</td>\n",
       "      <td>...</td>\n",
       "      <td>35</td>\n",
       "      <td>62</td>\n",
       "      <td>48</td>\n",
       "      <td>0</td>\n",
       "      <td>0</td>\n",
       "      <td>0</td>\n",
       "      <td>0</td>\n",
       "      <td>0</td>\n",
       "      <td>0</td>\n",
       "      <td>COLD</td>\n",
       "    </tr>\n",
       "    <tr>\n",
       "      <th>1</th>\n",
       "      <td>90</td>\n",
       "      <td>710114</td>\n",
       "      <td>SWEET BAGUETTE</td>\n",
       "      <td>2014-01-03</td>\n",
       "      <td>70.50</td>\n",
       "      <td>30</td>\n",
       "      <td>2.35</td>\n",
       "      <td>NaN</td>\n",
       "      <td>Each</td>\n",
       "      <td>1</td>\n",
       "      <td>...</td>\n",
       "      <td>37</td>\n",
       "      <td>60</td>\n",
       "      <td>48</td>\n",
       "      <td>0</td>\n",
       "      <td>0</td>\n",
       "      <td>0</td>\n",
       "      <td>0</td>\n",
       "      <td>0</td>\n",
       "      <td>0</td>\n",
       "      <td>COLD</td>\n",
       "    </tr>\n",
       "    <tr>\n",
       "      <th>2</th>\n",
       "      <td>90</td>\n",
       "      <td>710114</td>\n",
       "      <td>SWEET BAGUETTE</td>\n",
       "      <td>2014-01-04</td>\n",
       "      <td>72.85</td>\n",
       "      <td>31</td>\n",
       "      <td>2.35</td>\n",
       "      <td>NaN</td>\n",
       "      <td>Each</td>\n",
       "      <td>1</td>\n",
       "      <td>...</td>\n",
       "      <td>37</td>\n",
       "      <td>68</td>\n",
       "      <td>52</td>\n",
       "      <td>1</td>\n",
       "      <td>0</td>\n",
       "      <td>0</td>\n",
       "      <td>0</td>\n",
       "      <td>0</td>\n",
       "      <td>0</td>\n",
       "      <td>COLD</td>\n",
       "    </tr>\n",
       "    <tr>\n",
       "      <th>3</th>\n",
       "      <td>90</td>\n",
       "      <td>710114</td>\n",
       "      <td>SWEET BAGUETTE</td>\n",
       "      <td>2014-01-05</td>\n",
       "      <td>89.30</td>\n",
       "      <td>38</td>\n",
       "      <td>2.35</td>\n",
       "      <td>NaN</td>\n",
       "      <td>Each</td>\n",
       "      <td>1</td>\n",
       "      <td>...</td>\n",
       "      <td>33</td>\n",
       "      <td>66</td>\n",
       "      <td>50</td>\n",
       "      <td>0</td>\n",
       "      <td>0</td>\n",
       "      <td>0</td>\n",
       "      <td>0</td>\n",
       "      <td>0</td>\n",
       "      <td>0</td>\n",
       "      <td>COLD</td>\n",
       "    </tr>\n",
       "    <tr>\n",
       "      <th>4</th>\n",
       "      <td>90</td>\n",
       "      <td>710114</td>\n",
       "      <td>SWEET BAGUETTE</td>\n",
       "      <td>2014-01-06</td>\n",
       "      <td>68.15</td>\n",
       "      <td>29</td>\n",
       "      <td>2.35</td>\n",
       "      <td>NaN</td>\n",
       "      <td>Each</td>\n",
       "      <td>1</td>\n",
       "      <td>...</td>\n",
       "      <td>37</td>\n",
       "      <td>57</td>\n",
       "      <td>46</td>\n",
       "      <td>0</td>\n",
       "      <td>0</td>\n",
       "      <td>0</td>\n",
       "      <td>0</td>\n",
       "      <td>0</td>\n",
       "      <td>0</td>\n",
       "      <td>COLD</td>\n",
       "    </tr>\n",
       "  </tbody>\n",
       "</table>\n",
       "<p>5 rows × 24 columns</p>\n",
       "</div>"
      ],
      "text/plain": [
       "   store_id upc_code       item_name       date  amount quantity  unit_price  \\\n",
       "0        90   710114  SWEET BAGUETTE 2014-01-02   39.95       17        2.35   \n",
       "1        90   710114  SWEET BAGUETTE 2014-01-03   70.50       30        2.35   \n",
       "2        90   710114  SWEET BAGUETTE 2014-01-04   72.85       31        2.35   \n",
       "3        90   710114  SWEET BAGUETTE 2014-01-05   89.30       38        2.35   \n",
       "4        90   710114  SWEET BAGUETTE 2014-01-06   68.15       29        2.35   \n",
       "\n",
       "   category  size msu  ... mintempi maxtempi meantempi fog rain snow  hail  \\\n",
       "0       NaN  Each   1  ...       35       62        48   0    0    0     0   \n",
       "1       NaN  Each   1  ...       37       60        48   0    0    0     0   \n",
       "2       NaN  Each   1  ...       37       68        52   1    0    0     0   \n",
       "3       NaN  Each   1  ...       33       66        50   0    0    0     0   \n",
       "4       NaN  Each   1  ...       37       57        46   0    0    0     0   \n",
       "\n",
       "  thunder tornado Temp_Types  \n",
       "0       0       0       COLD  \n",
       "1       0       0       COLD  \n",
       "2       0       0       COLD  \n",
       "3       0       0       COLD  \n",
       "4       0       0       COLD  \n",
       "\n",
       "[5 rows x 24 columns]"
      ]
     },
     "execution_count": 22,
     "metadata": {},
     "output_type": "execute_result"
    }
   ],
   "source": [
    "final_data.head()"
   ]
  },
  {
   "cell_type": "code",
   "execution_count": 23,
   "metadata": {},
   "outputs": [],
   "source": [
    "#Numerical Data Exploration"
   ]
  },
  {
   "cell_type": "code",
   "execution_count": 24,
   "metadata": {},
   "outputs": [
    {
     "name": "stderr",
     "output_type": "stream",
     "text": [
      "C:\\Users\\Admin\\anaconda3\\lib\\site-packages\\seaborn\\distributions.py:2619: FutureWarning: `distplot` is a deprecated function and will be removed in a future version. Please adapt your code to use either `displot` (a figure-level function with similar flexibility) or `histplot` (an axes-level function for histograms).\n",
      "  warnings.warn(msg, FutureWarning)\n"
     ]
    },
    {
     "data": {
      "image/png": "[encoded data removed]",
      "text/plain": [
       "<Figure size 1080x360 with 1 Axes>"
      ]
     },
     "metadata": {
      "needs_background": "light"
     },
     "output_type": "display_data"
    }
   ],
   "source": [
    "plt.figure(figsize=(15,5))\n",
    "sns.distplot(final_data['quantity'],kde=False)\n",
    "plt.show()"
   ]
  },
  {
   "cell_type": "code",
   "execution_count": 25,
   "metadata": {},
   "outputs": [
    {
     "data": {
      "image/png": "[encoded data removed]",
      "text/plain": [
       "<Figure size 1080x360 with 1 Axes>"
      ]
     },
     "metadata": {
      "needs_background": "light"
     },
     "output_type": "display_data"
    }
   ],
   "source": [
    "plt.figure(figsize=(15,5))\n",
    "sns.distplot(final_data['amount'],kde=False)\n",
    "plt.show()"
   ]
  },
  {
   "cell_type": "code",
   "execution_count": 26,
   "metadata": {},
   "outputs": [
    {
     "data": {
      "image/png": "[encoded data removed]",
      "text/plain": [
       "<Figure size 1080x360 with 1 Axes>"
      ]
     },
     "metadata": {
      "needs_background": "light"
     },
     "output_type": "display_data"
    }
   ],
   "source": [
    "plt.figure(figsize=(15,5))\n",
    "sns.distplot(final_data['meantempi'],kde=False)\n",
    "plt.show()"
   ]
  },
  {
   "cell_type": "code",
   "execution_count": 27,
   "metadata": {},
   "outputs": [
    {
     "data": {
      "image/png": "[encoded data removed]",
      "text/plain": [
       "<Figure size 1080x360 with 1 Axes>"
      ]
     },
     "metadata": {
      "needs_background": "light"
     },
     "output_type": "display_data"
    }
   ],
   "source": [
    "plt.figure(figsize=(15,5))\n",
    "sns.distplot(final_data['unit_price'],kde=False)\n",
    "plt.show()"
   ]
  },
  {
   "cell_type": "code",
   "execution_count": 28,
   "metadata": {},
   "outputs": [],
   "source": [
    "#Categorical Data E#xploration"
   ]
  },
  {
   "cell_type": "code",
   "execution_count": 29,
   "metadata": {},
   "outputs": [
    {
     "name": "stderr",
     "output_type": "stream",
     "text": [
      "C:\\Users\\Admin\\anaconda3\\lib\\site-packages\\seaborn\\_decorators.py:36: FutureWarning: Pass the following variable as a keyword arg: x. From version 0.12, the only valid positional argument will be `data`, and passing other arguments without an explicit keyword will result in an error or misinterpretation.\n",
      "  warnings.warn(\n"
     ]
    },
    {
     "data": {
      "image/png": "[encoded data removed]",
      "text/plain": [
       "<Figure size 1080x432 with 1 Axes>"
      ]
     },
     "metadata": {
      "needs_background": "light"
     },
     "output_type": "display_data"
    }
   ],
   "source": [
    "plt.figure(figsize=(15,6))\n",
    "sns.countplot(final_data['size'])\n",
    "plt.show()"
   ]
  },
  {
   "cell_type": "code",
   "execution_count": 30,
   "metadata": {},
   "outputs": [
    {
     "name": "stdout",
     "output_type": "stream",
     "text": [
      "<class 'pandas.core.frame.DataFrame'>\n",
      "Int64Index: 45734 entries, 0 to 45733\n",
      "Data columns (total 24 columns):\n",
      " #   Column      Non-Null Count  Dtype         \n",
      "---  ------      --------------  -----         \n",
      " 0   store_id    45734 non-null  int32         \n",
      " 1   upc_code    45734 non-null  object        \n",
      " 2   item_name   45734 non-null  object        \n",
      " 3   date        45734 non-null  datetime64[ns]\n",
      " 4   amount      45734 non-null  float64       \n",
      " 5   quantity    45734 non-null  object        \n",
      " 6   unit_price  45734 non-null  float64       \n",
      " 7   category    0 non-null      float64       \n",
      " 8   size        35537 non-null  object        \n",
      " 9   msu         45734 non-null  object        \n",
      " 10  PDT         43693 non-null  datetime64[ns]\n",
      " 11  mintempm    43693 non-null  object        \n",
      " 12  maxtempm    43693 non-null  object        \n",
      " 13  meantempm   43693 non-null  object        \n",
      " 14  mintempi    43693 non-null  object        \n",
      " 15  maxtempi    43693 non-null  object        \n",
      " 16  meantempi   45734 non-null  int64         \n",
      " 17  fog         43693 non-null  object        \n",
      " 18  rain        43693 non-null  object        \n",
      " 19  snow        43693 non-null  object        \n",
      " 20  hail        43693 non-null  object        \n",
      " 21  thunder     43693 non-null  object        \n",
      " 22  tornado     43693 non-null  object        \n",
      " 23  Temp_Types  45734 non-null  object        \n",
      "dtypes: datetime64[ns](2), float64(3), int32(1), int64(1), object(17)\n",
      "memory usage: 9.6+ MB\n"
     ]
    }
   ],
   "source": [
    "final_data.info()"
   ]
  },
  {
   "cell_type": "code",
   "execution_count": 31,
   "metadata": {},
   "outputs": [],
   "source": [
    "final_data['quantity']=final_data['quantity'].astype(int)"
   ]
  },
  {
   "cell_type": "code",
   "execution_count": 32,
   "metadata": {},
   "outputs": [],
   "source": [
    "corr=final_data[['quantity','meantempi']].corr()"
   ]
  },
  {
   "cell_type": "code",
   "execution_count": 33,
   "metadata": {},
   "outputs": [
    {
     "data": {
      "text/plain": [
       "<AxesSubplot:>"
      ]
     },
     "execution_count": 33,
     "metadata": {},
     "output_type": "execute_result"
    },
    {
     "data": {
      "image/png": "[encoded data removed]",
      "text/plain": [
       "<Figure size 432x288 with 2 Axes>"
      ]
     },
     "metadata": {
      "needs_background": "light"
     },
     "output_type": "display_data"
    }
   ],
   "source": [
    "sns.heatmap(corr,annot=True)"
   ]
  },
  {
   "cell_type": "code",
   "execution_count": 34,
   "metadata": {},
   "outputs": [
    {
     "data": {
      "text/plain": [
       "<seaborn.axisgrid.FacetGrid at 0x18e427085e0>"
      ]
     },
     "execution_count": 34,
     "metadata": {},
     "output_type": "execute_result"
    },
    {
     "data": {
      "image/png": "[encoded data removed]",
      "text/plain": [
       "<Figure size 451.25x360 with 1 Axes>"
      ]
     },
     "metadata": {
      "needs_background": "light"
     },
     "output_type": "display_data"
    }
   ],
   "source": [
    "sns.lmplot(x='meantempi',y='quantity',hue='Temp_Types',data=final_data)"
   ]
  },
  {
   "cell_type": "code",
   "execution_count": 35,
   "metadata": {},
   "outputs": [
    {
     "data": {
      "text/plain": [
       "<AxesSubplot:xlabel='meantempi', ylabel='quantity'>"
      ]
     },
     "execution_count": 35,
     "metadata": {},
     "output_type": "execute_result"
    },
    {
     "data": {
      "image/png": "[encoded data removed]",
      "text/plain": [
       "<Figure size 432x288 with 1 Axes>"
      ]
     },
     "metadata": {
      "needs_background": "light"
     },
     "output_type": "display_data"
    }
   ],
   "source": [
    "sns.scatterplot(x='meantempi',y='quantity',hue='Temp_Types',data=final_data)"
   ]
  },
  {
   "cell_type": "code",
   "execution_count": 36,
   "metadata": {},
   "outputs": [],
   "source": [
    "#Extra feature \n",
    "#extra data"
   ]
  },
  {
   "cell_type": "code",
   "execution_count": 37,
   "metadata": {},
   "outputs": [
    {
     "data": {
      "text/html": [
       "<div>\n",
       "<style scoped>\n",
       "    .dataframe tbody tr th:only-of-type {\n",
       "        vertical-align: middle;\n",
       "    }\n",
       "\n",
       "    .dataframe tbody tr th {\n",
       "        vertical-align: top;\n",
       "    }\n",
       "\n",
       "    .dataframe thead th {\n",
       "        text-align: right;\n",
       "    }\n",
       "</style>\n",
       "<table border=\"1\" class=\"dataframe\">\n",
       "  <thead>\n",
       "    <tr style=\"text-align: right;\">\n",
       "      <th></th>\n",
       "      <th>store_id</th>\n",
       "      <th>upc_code</th>\n",
       "      <th>item_name</th>\n",
       "      <th>date</th>\n",
       "      <th>amount</th>\n",
       "      <th>quantity</th>\n",
       "      <th>unit_price</th>\n",
       "      <th>category</th>\n",
       "      <th>size</th>\n",
       "      <th>msu</th>\n",
       "      <th>...</th>\n",
       "      <th>mintempi</th>\n",
       "      <th>maxtempi</th>\n",
       "      <th>meantempi</th>\n",
       "      <th>fog</th>\n",
       "      <th>rain</th>\n",
       "      <th>snow</th>\n",
       "      <th>hail</th>\n",
       "      <th>thunder</th>\n",
       "      <th>tornado</th>\n",
       "      <th>Temp_Types</th>\n",
       "    </tr>\n",
       "  </thead>\n",
       "  <tbody>\n",
       "    <tr>\n",
       "      <th>0</th>\n",
       "      <td>90</td>\n",
       "      <td>710114</td>\n",
       "      <td>SWEET BAGUETTE</td>\n",
       "      <td>2014-01-02</td>\n",
       "      <td>39.95</td>\n",
       "      <td>17</td>\n",
       "      <td>2.35</td>\n",
       "      <td>NaN</td>\n",
       "      <td>Each</td>\n",
       "      <td>1</td>\n",
       "      <td>...</td>\n",
       "      <td>35</td>\n",
       "      <td>62</td>\n",
       "      <td>48</td>\n",
       "      <td>0</td>\n",
       "      <td>0</td>\n",
       "      <td>0</td>\n",
       "      <td>0</td>\n",
       "      <td>0</td>\n",
       "      <td>0</td>\n",
       "      <td>COLD</td>\n",
       "    </tr>\n",
       "    <tr>\n",
       "      <th>1</th>\n",
       "      <td>90</td>\n",
       "      <td>710114</td>\n",
       "      <td>SWEET BAGUETTE</td>\n",
       "      <td>2014-01-03</td>\n",
       "      <td>70.50</td>\n",
       "      <td>30</td>\n",
       "      <td>2.35</td>\n",
       "      <td>NaN</td>\n",
       "      <td>Each</td>\n",
       "      <td>1</td>\n",
       "      <td>...</td>\n",
       "      <td>37</td>\n",
       "      <td>60</td>\n",
       "      <td>48</td>\n",
       "      <td>0</td>\n",
       "      <td>0</td>\n",
       "      <td>0</td>\n",
       "      <td>0</td>\n",
       "      <td>0</td>\n",
       "      <td>0</td>\n",
       "      <td>COLD</td>\n",
       "    </tr>\n",
       "    <tr>\n",
       "      <th>2</th>\n",
       "      <td>90</td>\n",
       "      <td>710114</td>\n",
       "      <td>SWEET BAGUETTE</td>\n",
       "      <td>2014-01-04</td>\n",
       "      <td>72.85</td>\n",
       "      <td>31</td>\n",
       "      <td>2.35</td>\n",
       "      <td>NaN</td>\n",
       "      <td>Each</td>\n",
       "      <td>1</td>\n",
       "      <td>...</td>\n",
       "      <td>37</td>\n",
       "      <td>68</td>\n",
       "      <td>52</td>\n",
       "      <td>1</td>\n",
       "      <td>0</td>\n",
       "      <td>0</td>\n",
       "      <td>0</td>\n",
       "      <td>0</td>\n",
       "      <td>0</td>\n",
       "      <td>COLD</td>\n",
       "    </tr>\n",
       "    <tr>\n",
       "      <th>3</th>\n",
       "      <td>90</td>\n",
       "      <td>710114</td>\n",
       "      <td>SWEET BAGUETTE</td>\n",
       "      <td>2014-01-05</td>\n",
       "      <td>89.30</td>\n",
       "      <td>38</td>\n",
       "      <td>2.35</td>\n",
       "      <td>NaN</td>\n",
       "      <td>Each</td>\n",
       "      <td>1</td>\n",
       "      <td>...</td>\n",
       "      <td>33</td>\n",
       "      <td>66</td>\n",
       "      <td>50</td>\n",
       "      <td>0</td>\n",
       "      <td>0</td>\n",
       "      <td>0</td>\n",
       "      <td>0</td>\n",
       "      <td>0</td>\n",
       "      <td>0</td>\n",
       "      <td>COLD</td>\n",
       "    </tr>\n",
       "    <tr>\n",
       "      <th>4</th>\n",
       "      <td>90</td>\n",
       "      <td>710114</td>\n",
       "      <td>SWEET BAGUETTE</td>\n",
       "      <td>2014-01-06</td>\n",
       "      <td>68.15</td>\n",
       "      <td>29</td>\n",
       "      <td>2.35</td>\n",
       "      <td>NaN</td>\n",
       "      <td>Each</td>\n",
       "      <td>1</td>\n",
       "      <td>...</td>\n",
       "      <td>37</td>\n",
       "      <td>57</td>\n",
       "      <td>46</td>\n",
       "      <td>0</td>\n",
       "      <td>0</td>\n",
       "      <td>0</td>\n",
       "      <td>0</td>\n",
       "      <td>0</td>\n",
       "      <td>0</td>\n",
       "      <td>COLD</td>\n",
       "    </tr>\n",
       "  </tbody>\n",
       "</table>\n",
       "<p>5 rows × 24 columns</p>\n",
       "</div>"
      ],
      "text/plain": [
       "   store_id upc_code       item_name       date  amount  quantity  unit_price  \\\n",
       "0        90   710114  SWEET BAGUETTE 2014-01-02   39.95        17        2.35   \n",
       "1        90   710114  SWEET BAGUETTE 2014-01-03   70.50        30        2.35   \n",
       "2        90   710114  SWEET BAGUETTE 2014-01-04   72.85        31        2.35   \n",
       "3        90   710114  SWEET BAGUETTE 2014-01-05   89.30        38        2.35   \n",
       "4        90   710114  SWEET BAGUETTE 2014-01-06   68.15        29        2.35   \n",
       "\n",
       "   category  size msu  ... mintempi maxtempi meantempi fog rain snow  hail  \\\n",
       "0       NaN  Each   1  ...       35       62        48   0    0    0     0   \n",
       "1       NaN  Each   1  ...       37       60        48   0    0    0     0   \n",
       "2       NaN  Each   1  ...       37       68        52   1    0    0     0   \n",
       "3       NaN  Each   1  ...       33       66        50   0    0    0     0   \n",
       "4       NaN  Each   1  ...       37       57        46   0    0    0     0   \n",
       "\n",
       "  thunder tornado Temp_Types  \n",
       "0       0       0       COLD  \n",
       "1       0       0       COLD  \n",
       "2       0       0       COLD  \n",
       "3       0       0       COLD  \n",
       "4       0       0       COLD  \n",
       "\n",
       "[5 rows x 24 columns]"
      ]
     },
     "execution_count": 37,
     "metadata": {},
     "output_type": "execute_result"
    }
   ],
   "source": [
    "final_data.head()"
   ]
  },
  {
   "cell_type": "code",
   "execution_count": 38,
   "metadata": {},
   "outputs": [
    {
     "data": {
      "text/plain": [
       "array([710114, 711814, 712118, 712415, 712811, 712910, 712927, 713115,\n",
       "       252174000007, 252175000006, 252176000005, 252179000002,\n",
       "       257251000000, 257252000009, 257253000008, 257254000007,\n",
       "       257255000006, 257256000005, 257257000004, 257265000003,\n",
       "       257266000002, 257267000001, 257268000000, 257272000003,\n",
       "       271011000000, 271078000005, 271124000003, 271181000008,\n",
       "       271211000008, 271241000009, 271281000007, 271291000004,\n",
       "       271292000003, 271311000007], dtype=object)"
      ]
     },
     "execution_count": 38,
     "metadata": {},
     "output_type": "execute_result"
    }
   ],
   "source": [
    "#identifying the UPC unique values\n",
    "final_data['upc_code'].unique()"
   ]
  },
  {
   "cell_type": "code",
   "execution_count": 39,
   "metadata": {},
   "outputs": [
    {
     "data": {
      "text/plain": [
       "(45734, 24)"
      ]
     },
     "execution_count": 39,
     "metadata": {},
     "output_type": "execute_result"
    }
   ],
   "source": [
    "final_data.shape"
   ]
  },
  {
   "cell_type": "code",
   "execution_count": 40,
   "metadata": {},
   "outputs": [
    {
     "data": {
      "text/plain": [
       "Index(['store_id', 'upc_code', 'item_name', 'date', 'amount', 'quantity',\n",
       "       'unit_price', 'category', 'size', 'msu', 'PDT', 'mintempm', 'maxtempm',\n",
       "       'meantempm', 'mintempi', 'maxtempi', 'meantempi', 'fog', 'rain', 'snow',\n",
       "       'hail', 'thunder', 'tornado', 'Temp_Types'],\n",
       "      dtype='object')"
      ]
     },
     "execution_count": 40,
     "metadata": {},
     "output_type": "execute_result"
    }
   ],
   "source": [
    "final_data.columns"
   ]
  },
  {
   "cell_type": "code",
   "execution_count": 41,
   "metadata": {},
   "outputs": [],
   "source": [
    "#creating the new columns date month and year\n",
    "final_data['date']=pd.to_datetime(final_data['date'])\n",
    "final_data['year']=final_data['date'].dt.year\n",
    "final_data[\"month\"]=final_data['date'].dt.month"
   ]
  },
  {
   "cell_type": "code",
   "execution_count": 42,
   "metadata": {},
   "outputs": [
    {
     "data": {
      "text/plain": [
       "Timestamp('2019-06-27 00:00:00')"
      ]
     },
     "execution_count": 42,
     "metadata": {},
     "output_type": "execute_result"
    }
   ],
   "source": [
    "#maximum value\n",
    "max(final_data['date'])"
   ]
  },
  {
   "cell_type": "code",
   "execution_count": 43,
   "metadata": {},
   "outputs": [
    {
     "data": {
      "text/html": [
       "<div>\n",
       "<style scoped>\n",
       "    .dataframe tbody tr th:only-of-type {\n",
       "        vertical-align: middle;\n",
       "    }\n",
       "\n",
       "    .dataframe tbody tr th {\n",
       "        vertical-align: top;\n",
       "    }\n",
       "\n",
       "    .dataframe thead th {\n",
       "        text-align: right;\n",
       "    }\n",
       "</style>\n",
       "<table border=\"1\" class=\"dataframe\">\n",
       "  <thead>\n",
       "    <tr style=\"text-align: right;\">\n",
       "      <th></th>\n",
       "      <th>column_name</th>\n",
       "      <th>percent_missing</th>\n",
       "    </tr>\n",
       "  </thead>\n",
       "  <tbody>\n",
       "    <tr>\n",
       "      <th>store_id</th>\n",
       "      <td>store_id</td>\n",
       "      <td>0.000000</td>\n",
       "    </tr>\n",
       "    <tr>\n",
       "      <th>upc_code</th>\n",
       "      <td>upc_code</td>\n",
       "      <td>0.000000</td>\n",
       "    </tr>\n",
       "    <tr>\n",
       "      <th>item_name</th>\n",
       "      <td>item_name</td>\n",
       "      <td>0.000000</td>\n",
       "    </tr>\n",
       "    <tr>\n",
       "      <th>date</th>\n",
       "      <td>date</td>\n",
       "      <td>0.000000</td>\n",
       "    </tr>\n",
       "    <tr>\n",
       "      <th>amount</th>\n",
       "      <td>amount</td>\n",
       "      <td>0.000000</td>\n",
       "    </tr>\n",
       "    <tr>\n",
       "      <th>quantity</th>\n",
       "      <td>quantity</td>\n",
       "      <td>0.000000</td>\n",
       "    </tr>\n",
       "    <tr>\n",
       "      <th>unit_price</th>\n",
       "      <td>unit_price</td>\n",
       "      <td>0.000000</td>\n",
       "    </tr>\n",
       "    <tr>\n",
       "      <th>category</th>\n",
       "      <td>category</td>\n",
       "      <td>100.000000</td>\n",
       "    </tr>\n",
       "    <tr>\n",
       "      <th>size</th>\n",
       "      <td>size</td>\n",
       "      <td>22.296322</td>\n",
       "    </tr>\n",
       "    <tr>\n",
       "      <th>msu</th>\n",
       "      <td>msu</td>\n",
       "      <td>0.000000</td>\n",
       "    </tr>\n",
       "    <tr>\n",
       "      <th>PDT</th>\n",
       "      <td>PDT</td>\n",
       "      <td>4.462763</td>\n",
       "    </tr>\n",
       "    <tr>\n",
       "      <th>mintempm</th>\n",
       "      <td>mintempm</td>\n",
       "      <td>4.462763</td>\n",
       "    </tr>\n",
       "    <tr>\n",
       "      <th>maxtempm</th>\n",
       "      <td>maxtempm</td>\n",
       "      <td>4.462763</td>\n",
       "    </tr>\n",
       "    <tr>\n",
       "      <th>meantempm</th>\n",
       "      <td>meantempm</td>\n",
       "      <td>4.462763</td>\n",
       "    </tr>\n",
       "    <tr>\n",
       "      <th>mintempi</th>\n",
       "      <td>mintempi</td>\n",
       "      <td>4.462763</td>\n",
       "    </tr>\n",
       "    <tr>\n",
       "      <th>maxtempi</th>\n",
       "      <td>maxtempi</td>\n",
       "      <td>4.462763</td>\n",
       "    </tr>\n",
       "    <tr>\n",
       "      <th>meantempi</th>\n",
       "      <td>meantempi</td>\n",
       "      <td>0.000000</td>\n",
       "    </tr>\n",
       "    <tr>\n",
       "      <th>fog</th>\n",
       "      <td>fog</td>\n",
       "      <td>4.462763</td>\n",
       "    </tr>\n",
       "    <tr>\n",
       "      <th>rain</th>\n",
       "      <td>rain</td>\n",
       "      <td>4.462763</td>\n",
       "    </tr>\n",
       "    <tr>\n",
       "      <th>snow</th>\n",
       "      <td>snow</td>\n",
       "      <td>4.462763</td>\n",
       "    </tr>\n",
       "    <tr>\n",
       "      <th>hail</th>\n",
       "      <td>hail</td>\n",
       "      <td>4.462763</td>\n",
       "    </tr>\n",
       "    <tr>\n",
       "      <th>thunder</th>\n",
       "      <td>thunder</td>\n",
       "      <td>4.462763</td>\n",
       "    </tr>\n",
       "    <tr>\n",
       "      <th>tornado</th>\n",
       "      <td>tornado</td>\n",
       "      <td>4.462763</td>\n",
       "    </tr>\n",
       "    <tr>\n",
       "      <th>Temp_Types</th>\n",
       "      <td>Temp_Types</td>\n",
       "      <td>0.000000</td>\n",
       "    </tr>\n",
       "    <tr>\n",
       "      <th>year</th>\n",
       "      <td>year</td>\n",
       "      <td>0.000000</td>\n",
       "    </tr>\n",
       "    <tr>\n",
       "      <th>month</th>\n",
       "      <td>month</td>\n",
       "      <td>0.000000</td>\n",
       "    </tr>\n",
       "  </tbody>\n",
       "</table>\n",
       "</div>"
      ],
      "text/plain": [
       "           column_name  percent_missing\n",
       "store_id      store_id         0.000000\n",
       "upc_code      upc_code         0.000000\n",
       "item_name    item_name         0.000000\n",
       "date              date         0.000000\n",
       "amount          amount         0.000000\n",
       "quantity      quantity         0.000000\n",
       "unit_price  unit_price         0.000000\n",
       "category      category       100.000000\n",
       "size              size        22.296322\n",
       "msu                msu         0.000000\n",
       "PDT                PDT         4.462763\n",
       "mintempm      mintempm         4.462763\n",
       "maxtempm      maxtempm         4.462763\n",
       "meantempm    meantempm         4.462763\n",
       "mintempi      mintempi         4.462763\n",
       "maxtempi      maxtempi         4.462763\n",
       "meantempi    meantempi         0.000000\n",
       "fog                fog         4.462763\n",
       "rain              rain         4.462763\n",
       "snow              snow         4.462763\n",
       "hail              hail         4.462763\n",
       "thunder        thunder         4.462763\n",
       "tornado        tornado         4.462763\n",
       "Temp_Types  Temp_Types         0.000000\n",
       "year              year         0.000000\n",
       "month            month         0.000000"
      ]
     },
     "execution_count": 43,
     "metadata": {},
     "output_type": "execute_result"
    }
   ],
   "source": [
    "#Checking for missing values.\n",
    "percent_missing = final_data.isnull().sum() * 100 / len(final_data)\n",
    "missing_value_combined_df = pd.DataFrame({'column_name': final_data.columns,\n",
    "                                 'percent_missing': percent_missing})\n",
    "missing_value_combined_df"
   ]
  },
  {
   "cell_type": "code",
   "execution_count": 44,
   "metadata": {},
   "outputs": [],
   "source": [
    "#new_df_aus_core_act.groupby(new_df_aus_core_act['date'].dt.to_period('W-SUN'))['quantity'].sum()#agg('count')\n",
    "#final_data_2['date']=pd.to_datetime(final_data_2['date'])\n",
    "final_df_core= (final_data\n",
    "     .reset_index()\n",
    "     .set_index(\"date\")\n",
    "     .groupby(['store_id', 'upc_code','year','month',pd.Grouper(freq='M')])[\"quantity\"].sum()\n",
    "     .astype(int)\n",
    "     .reset_index())"
   ]
  },
  {
   "cell_type": "code",
   "execution_count": 45,
   "metadata": {},
   "outputs": [],
   "source": [
    "maximumdate=max(final_df_core['date'])\n",
    "minimumdate=min(final_df_core['date'])"
   ]
  },
  {
   "cell_type": "code",
   "execution_count": 46,
   "metadata": {},
   "outputs": [],
   "source": [
    "#creating dataframe of dates with unique combination \n",
    "from datetime import date, timedelta\n",
    "from dateutil.relativedelta import relativedelta\n",
    "\n",
    "\n",
    "start_date, end_date = minimumdate, maximumdate+relativedelta(months=+1)\n",
    "\n",
    "date_range = pd.date_range(start_date, end_date - timedelta(), freq='M')"
   ]
  },
  {
   "cell_type": "code",
   "execution_count": 47,
   "metadata": {},
   "outputs": [],
   "source": [
    "#creating the date as column\n",
    "df_date=pd.DataFrame(date_range,columns=['date'])"
   ]
  },
  {
   "cell_type": "code",
   "execution_count": 48,
   "metadata": {},
   "outputs": [],
   "source": [
    "#assigined it into unique combinations\n",
    "df_unique_combinations=pd.DataFrame(list(final_df_core['upc_code'].unique()),columns=['upc_code'])"
   ]
  },
  {
   "cell_type": "code",
   "execution_count": 49,
   "metadata": {},
   "outputs": [
    {
     "name": "stderr",
     "output_type": "stream",
     "text": [
      "C:\\Users\\Admin\\AppData\\Local\\Temp/ipykernel_4688/1524140305.py:2: FutureWarning: In a future version of pandas all arguments of DataFrame.drop except for the argument 'labels' will be keyword-only\n",
      "  df_data_model=df_unique_combinations.assign(foo=1).merge(df_date.assign(foo=1)).drop('foo', 1)\n"
     ]
    }
   ],
   "source": [
    "#merging into assigining dataframe\n",
    "df_data_model=df_unique_combinations.assign(foo=1).merge(df_date.assign(foo=1)).drop('foo', 1)"
   ]
  },
  {
   "cell_type": "code",
   "execution_count": 50,
   "metadata": {},
   "outputs": [
    {
     "data": {
      "text/html": [
       "<div>\n",
       "<style scoped>\n",
       "    .dataframe tbody tr th:only-of-type {\n",
       "        vertical-align: middle;\n",
       "    }\n",
       "\n",
       "    .dataframe tbody tr th {\n",
       "        vertical-align: top;\n",
       "    }\n",
       "\n",
       "    .dataframe thead th {\n",
       "        text-align: right;\n",
       "    }\n",
       "</style>\n",
       "<table border=\"1\" class=\"dataframe\">\n",
       "  <thead>\n",
       "    <tr style=\"text-align: right;\">\n",
       "      <th></th>\n",
       "      <th>upc_code</th>\n",
       "      <th>date</th>\n",
       "    </tr>\n",
       "  </thead>\n",
       "  <tbody>\n",
       "    <tr>\n",
       "      <th>0</th>\n",
       "      <td>710114</td>\n",
       "      <td>2014-01-31</td>\n",
       "    </tr>\n",
       "    <tr>\n",
       "      <th>1</th>\n",
       "      <td>710114</td>\n",
       "      <td>2014-02-28</td>\n",
       "    </tr>\n",
       "    <tr>\n",
       "      <th>2</th>\n",
       "      <td>710114</td>\n",
       "      <td>2014-03-31</td>\n",
       "    </tr>\n",
       "    <tr>\n",
       "      <th>3</th>\n",
       "      <td>710114</td>\n",
       "      <td>2014-04-30</td>\n",
       "    </tr>\n",
       "    <tr>\n",
       "      <th>4</th>\n",
       "      <td>710114</td>\n",
       "      <td>2014-05-31</td>\n",
       "    </tr>\n",
       "    <tr>\n",
       "      <th>...</th>\n",
       "      <td>...</td>\n",
       "      <td>...</td>\n",
       "    </tr>\n",
       "    <tr>\n",
       "      <th>2239</th>\n",
       "      <td>271311000007</td>\n",
       "      <td>2019-02-28</td>\n",
       "    </tr>\n",
       "    <tr>\n",
       "      <th>2240</th>\n",
       "      <td>271311000007</td>\n",
       "      <td>2019-03-31</td>\n",
       "    </tr>\n",
       "    <tr>\n",
       "      <th>2241</th>\n",
       "      <td>271311000007</td>\n",
       "      <td>2019-04-30</td>\n",
       "    </tr>\n",
       "    <tr>\n",
       "      <th>2242</th>\n",
       "      <td>271311000007</td>\n",
       "      <td>2019-05-31</td>\n",
       "    </tr>\n",
       "    <tr>\n",
       "      <th>2243</th>\n",
       "      <td>271311000007</td>\n",
       "      <td>2019-06-30</td>\n",
       "    </tr>\n",
       "  </tbody>\n",
       "</table>\n",
       "<p>2244 rows × 2 columns</p>\n",
       "</div>"
      ],
      "text/plain": [
       "          upc_code       date\n",
       "0           710114 2014-01-31\n",
       "1           710114 2014-02-28\n",
       "2           710114 2014-03-31\n",
       "3           710114 2014-04-30\n",
       "4           710114 2014-05-31\n",
       "...            ...        ...\n",
       "2239  271311000007 2019-02-28\n",
       "2240  271311000007 2019-03-31\n",
       "2241  271311000007 2019-04-30\n",
       "2242  271311000007 2019-05-31\n",
       "2243  271311000007 2019-06-30\n",
       "\n",
       "[2244 rows x 2 columns]"
      ]
     },
     "execution_count": 50,
     "metadata": {},
     "output_type": "execute_result"
    }
   ],
   "source": [
    "df_data_model"
   ]
  },
  {
   "cell_type": "code",
   "execution_count": 51,
   "metadata": {},
   "outputs": [],
   "source": [
    "#created the final dataframe with existing one\n",
    "final_core=pd.merge(df_data_model,final_df_core,on=['upc_code','date'],how='left')"
   ]
  },
  {
   "cell_type": "code",
   "execution_count": 52,
   "metadata": {},
   "outputs": [],
   "source": [
    "#final_core.drop(columns='store_id_upc_code',inplace=True)"
   ]
  },
  {
   "cell_type": "code",
   "execution_count": 53,
   "metadata": {},
   "outputs": [
    {
     "data": {
      "text/html": [
       "<div>\n",
       "<style scoped>\n",
       "    .dataframe tbody tr th:only-of-type {\n",
       "        vertical-align: middle;\n",
       "    }\n",
       "\n",
       "    .dataframe tbody tr th {\n",
       "        vertical-align: top;\n",
       "    }\n",
       "\n",
       "    .dataframe thead th {\n",
       "        text-align: right;\n",
       "    }\n",
       "</style>\n",
       "<table border=\"1\" class=\"dataframe\">\n",
       "  <thead>\n",
       "    <tr style=\"text-align: right;\">\n",
       "      <th></th>\n",
       "      <th>upc_code</th>\n",
       "      <th>date</th>\n",
       "      <th>store_id</th>\n",
       "      <th>year</th>\n",
       "      <th>month</th>\n",
       "      <th>quantity</th>\n",
       "    </tr>\n",
       "  </thead>\n",
       "  <tbody>\n",
       "    <tr>\n",
       "      <th>0</th>\n",
       "      <td>710114</td>\n",
       "      <td>2014-01-31</td>\n",
       "      <td>90.0</td>\n",
       "      <td>2014.0</td>\n",
       "      <td>1.0</td>\n",
       "      <td>857.0</td>\n",
       "    </tr>\n",
       "    <tr>\n",
       "      <th>1</th>\n",
       "      <td>710114</td>\n",
       "      <td>2014-02-28</td>\n",
       "      <td>90.0</td>\n",
       "      <td>2014.0</td>\n",
       "      <td>2.0</td>\n",
       "      <td>747.0</td>\n",
       "    </tr>\n",
       "    <tr>\n",
       "      <th>2</th>\n",
       "      <td>710114</td>\n",
       "      <td>2014-03-31</td>\n",
       "      <td>90.0</td>\n",
       "      <td>2014.0</td>\n",
       "      <td>3.0</td>\n",
       "      <td>751.0</td>\n",
       "    </tr>\n",
       "    <tr>\n",
       "      <th>3</th>\n",
       "      <td>710114</td>\n",
       "      <td>2014-04-30</td>\n",
       "      <td>90.0</td>\n",
       "      <td>2014.0</td>\n",
       "      <td>4.0</td>\n",
       "      <td>803.0</td>\n",
       "    </tr>\n",
       "    <tr>\n",
       "      <th>4</th>\n",
       "      <td>710114</td>\n",
       "      <td>2014-05-31</td>\n",
       "      <td>90.0</td>\n",
       "      <td>2014.0</td>\n",
       "      <td>5.0</td>\n",
       "      <td>854.0</td>\n",
       "    </tr>\n",
       "    <tr>\n",
       "      <th>...</th>\n",
       "      <td>...</td>\n",
       "      <td>...</td>\n",
       "      <td>...</td>\n",
       "      <td>...</td>\n",
       "      <td>...</td>\n",
       "      <td>...</td>\n",
       "    </tr>\n",
       "    <tr>\n",
       "      <th>2239</th>\n",
       "      <td>271311000007</td>\n",
       "      <td>2019-02-28</td>\n",
       "      <td>NaN</td>\n",
       "      <td>NaN</td>\n",
       "      <td>NaN</td>\n",
       "      <td>NaN</td>\n",
       "    </tr>\n",
       "    <tr>\n",
       "      <th>2240</th>\n",
       "      <td>271311000007</td>\n",
       "      <td>2019-03-31</td>\n",
       "      <td>90.0</td>\n",
       "      <td>2019.0</td>\n",
       "      <td>3.0</td>\n",
       "      <td>1.0</td>\n",
       "    </tr>\n",
       "    <tr>\n",
       "      <th>2241</th>\n",
       "      <td>271311000007</td>\n",
       "      <td>2019-04-30</td>\n",
       "      <td>90.0</td>\n",
       "      <td>2019.0</td>\n",
       "      <td>4.0</td>\n",
       "      <td>2.0</td>\n",
       "    </tr>\n",
       "    <tr>\n",
       "      <th>2242</th>\n",
       "      <td>271311000007</td>\n",
       "      <td>2019-05-31</td>\n",
       "      <td>90.0</td>\n",
       "      <td>2019.0</td>\n",
       "      <td>5.0</td>\n",
       "      <td>7.0</td>\n",
       "    </tr>\n",
       "    <tr>\n",
       "      <th>2243</th>\n",
       "      <td>271311000007</td>\n",
       "      <td>2019-06-30</td>\n",
       "      <td>90.0</td>\n",
       "      <td>2019.0</td>\n",
       "      <td>6.0</td>\n",
       "      <td>17.0</td>\n",
       "    </tr>\n",
       "  </tbody>\n",
       "</table>\n",
       "<p>2244 rows × 6 columns</p>\n",
       "</div>"
      ],
      "text/plain": [
       "          upc_code       date  store_id    year  month  quantity\n",
       "0           710114 2014-01-31      90.0  2014.0    1.0     857.0\n",
       "1           710114 2014-02-28      90.0  2014.0    2.0     747.0\n",
       "2           710114 2014-03-31      90.0  2014.0    3.0     751.0\n",
       "3           710114 2014-04-30      90.0  2014.0    4.0     803.0\n",
       "4           710114 2014-05-31      90.0  2014.0    5.0     854.0\n",
       "...            ...        ...       ...     ...    ...       ...\n",
       "2239  271311000007 2019-02-28       NaN     NaN    NaN       NaN\n",
       "2240  271311000007 2019-03-31      90.0  2019.0    3.0       1.0\n",
       "2241  271311000007 2019-04-30      90.0  2019.0    4.0       2.0\n",
       "2242  271311000007 2019-05-31      90.0  2019.0    5.0       7.0\n",
       "2243  271311000007 2019-06-30      90.0  2019.0    6.0      17.0\n",
       "\n",
       "[2244 rows x 6 columns]"
      ]
     },
     "execution_count": 53,
     "metadata": {},
     "output_type": "execute_result"
    }
   ],
   "source": [
    "final_core"
   ]
  },
  {
   "cell_type": "code",
   "execution_count": 54,
   "metadata": {},
   "outputs": [],
   "source": [
    "final_core.fillna(value=0,inplace=True)"
   ]
  },
  {
   "cell_type": "code",
   "execution_count": 55,
   "metadata": {},
   "outputs": [],
   "source": [
    "import statsmodels.api as sm\n",
    "from statsmodels.tsa.statespace.sarimax import SARIMAX\n",
    "from time import time\n",
    "import itertools"
   ]
  },
  {
   "cell_type": "code",
   "execution_count": 56,
   "metadata": {},
   "outputs": [
    {
     "data": {
      "text/plain": [
       "Index(['upc_code', 'date', 'store_id', 'year', 'month', 'quantity'], dtype='object')"
      ]
     },
     "execution_count": 56,
     "metadata": {},
     "output_type": "execute_result"
    }
   ],
   "source": [
    "final_core.columns"
   ]
  },
  {
   "cell_type": "code",
   "execution_count": 57,
   "metadata": {},
   "outputs": [],
   "source": [
    "final_core['date']=final_core['date'].astype(\"datetime64[M]\")\n",
    "final_core['date']=pd.to_datetime(final_core['date'])"
   ]
  },
  {
   "cell_type": "code",
   "execution_count": 58,
   "metadata": {},
   "outputs": [],
   "source": [
    "maximumdate=final_core['date'].max()"
   ]
  },
  {
   "cell_type": "code",
   "execution_count": 59,
   "metadata": {},
   "outputs": [
    {
     "data": {
      "text/plain": [
       "Timestamp('2019-06-01 00:00:00')"
      ]
     },
     "execution_count": 59,
     "metadata": {},
     "output_type": "execute_result"
    }
   ],
   "source": [
    "maximumdate"
   ]
  },
  {
   "cell_type": "code",
   "execution_count": 141,
   "metadata": {},
   "outputs": [],
   "source": [
    "def sarima(dfi,st,end,months):\n",
    "    '''Using Sarimax as model for demand forecasting where data having identification as normal and quaterly are considered \n",
    "       This function on execution will return a dataframe containing the forecast fo sales for relative customer item \n",
    "       combinations with Mape result'''\n",
    "    import time\n",
    "    start = time.process_time()\n",
    "    predicted = pd.DataFrame()\n",
    "    #print(start,end)\n",
    "    for i in list(dfi[\"upc_code\"].unique()[st:end]):\n",
    "        #print(i)\n",
    "        data = dfi[dfi[\"upc_code\"]==i].groupby('date')['quantity'].sum().reset_index()\n",
    "        data = data.set_index(\"date\")\n",
    "        y = data[\"quantity\"].resample(\"MS\").sum()\n",
    "        p = d = q = range(0, 2)\n",
    "        pdq = list(itertools.product(p, d, q))\n",
    "        seasonal_pdq = [(x[0], x[1], x[2], 12) for x in list(itertools.product(p, d, q))]\n",
    "        df_test_model=pd.DataFrame(columns=['P_D_Q','Seasonal_p-d-q','aic_score'])\n",
    "        #print(df_test_model)\n",
    "        for param in pdq:\n",
    "            for param_seasonal in seasonal_pdq:\n",
    "                try:\n",
    "                    mod = sm.tsa.statespace.SARIMAX(y,\n",
    "                                                order=param,\n",
    "                                                seasonal_order=param_seasonal,\n",
    "                                                enforce_stationarity=False,\n",
    "                                                enforce_invertibility=False)\n",
    "                    results = mod.fit(disp=False)\n",
    "                    #print(results)\n",
    "                    df_test_model=df_test_model.append({'P_D_Q':param,'Seasonal_p-d-q':param_seasonal,'aic_score':results.aic},ignore_index=True)\n",
    "                    #print('ARIMA{}x{}12 - AIC:{}'.format(param, param_seasonal, results.aic))\n",
    "                except:\n",
    "                    continue\n",
    "                #print(results)\n",
    "        #print(order)\n",
    "        order = df_test_model[df_test_model['aic_score']==df_test_model['aic_score'].min()][\"P_D_Q\"].values[0]\n",
    "\n",
    "        #print(order)\n",
    "        seasonal_order = df_test_model[df_test_model['aic_score']==df_test_model['aic_score'].min()][\"Seasonal_p-d-q\"].values[0]\n",
    "        mod = sm.tsa.statespace.SARIMAX(y,\n",
    "                                        order=order,\n",
    "                                        seasonal_order=seasonal_order,\n",
    "                                        enforce_stationarity=False,\n",
    "                                        enforce_invertibility=False)\n",
    "        results = mod.fit(disp=False)\n",
    "        pred = results.get_prediction(start=maximumdate-pd.DateOffset(months=months-1), dynamic=False)\n",
    "        pred1 = results.get_prediction(start=maximumdate+ pd.DateOffset(months=1),end=maximumdate+ pd.DateOffset(months=months),dynamic=False)\n",
    "        y_forecasted1 = pred1.predicted_mean\n",
    "        y_forecasted = pred.predicted_mean\n",
    "        #print(y_forecasted)\n",
    "        y_truth = y[str(maximumdate-pd.DateOffset(months=months-1)):]\n",
    "        #y_forecasted=y_forecasted.clip(min=0)\n",
    "        #y_forecasted1= y_forecasted1.clip(min=0)\n",
    "        mse = ((y_forecasted - y_truth) ** 2).mean()\n",
    "        #y_forecasted.values=[0 if i < 0 else i for i in y_forecasted.values]\n",
    "        mape = mean_absolute_percentage_error(y_truth, y_forecasted)\n",
    "        y_forecasted_df=y_forecasted.to_frame().reset_index()\n",
    "        y_forecasted_df['actual']=y_truth.values\n",
    "        y_forecasted_df['mape']=round(mape)\n",
    "        y_forecasted_df['upc_code']=i\n",
    "        y_forecasted_df.columns=['date','forecast','actual','mape','upc_code']\n",
    "        #print(y_forecasted_df)\n",
    "        y_forecasted1_df=y_forecasted1.to_frame().reset_index()\n",
    "        y_forecasted1_df['actual']='NA'\n",
    "        y_forecasted1_df['mape']=round(mape)\n",
    "        y_forecasted1_df['upc_code']=i\n",
    "        y_forecasted1_df.columns=['date','forecast','actual','mape','upc_code']\n",
    "        final=pd.concat([y_forecasted_df,y_forecasted1_df])\n",
    "        final['forecast']=[round(negative(i)) for i in final['forecast']]\n",
    "        #print(final)\n",
    "        final=final[['date','upc_code','actual','forecast','mape']]\n",
    "        #print(final.shape)\n",
    "        if len(y_truth) != 0:\n",
    "            #for j in range(len(y_truth)):\n",
    "                #predicted = predicted.append({\"date\": y_forecasted.index.values[j], \"region_store_itemid_size_style_code_colour\": i, \"actual\": y_truth.values[j],\"forecast\": round(negative(y_forecasted.values[j])),\"mape\":round(mape),\"future_months\":y_forecasted1.index.values[j],\"future_forecast\":round(negative(y_forecasted1.values[j]))}, ignore_index=True)\n",
    "            predicted=predicted.append(final)\n",
    "        else:\n",
    "            predicted = predicted.append({\"date\": y_forecasted.index.values[0], \"upc_code\": i, \"actual\": 0,\"forecast\": round(y_forecasted.values[0]),\"mape\":-1}, ignore_index=True)    \n",
    "    print(\"Time taken\",time.process_time() - start)       \n",
    "    #print(predicted)\n",
    "    return predicted        \n",
    "    \n"
   ]
  },
  {
   "cell_type": "code",
   "execution_count": null,
   "metadata": {},
   "outputs": [],
   "source": []
  },
  {
   "cell_type": "code",
   "execution_count": 60,
   "metadata": {},
   "outputs": [],
   "source": [
    "import itertools\n",
    "def mean_absolute_percentage_error(y_truth, y_forecasted):\n",
    "    print(np.mean(np.abs(percentage_error(np.asarray(np.round(y_truth)), np.asarray(np.round(y_forecasted))))) * 100)\n",
    "    return np.mean(np.abs(percentage_error(np.asarray(np.round(y_truth)), np.asarray(np.round(y_forecasted))))) * 100\n",
    "\n",
    "def percentage_error(actual, predicted):\n",
    "    res = np.empty(actual.shape)\n",
    "    print(actual,predicted)\n",
    "    for j in range(actual.shape[0]):\n",
    "        if actual[j] == 0 and negative(predicted[j])==0:\n",
    "            res[j]=0\n",
    "        elif actual[j] == 0 and negative(predicted[j])>0:\n",
    "            res[j]=1\n",
    "        else:\n",
    "            res[j] = (actual[j] - predicted[j]) / actual[j]\n",
    "    #print(res)  \n",
    "    return res\n",
    "def negative(number):\n",
    "    if number <0:\n",
    "        return 0\n",
    "    else:\n",
    "        return number"
   ]
  },
  {
   "cell_type": "code",
   "execution_count": 143,
   "metadata": {},
   "outputs": [
    {
     "name": "stdout",
     "output_type": "stream",
     "text": [
      "[565. 487. 526. 251.] [523. 481. 527. 464.]\n",
      "23.429083252539723\n",
      "[565. 487. 526. 251.] [523. 481. 527. 464.]\n"
     ]
    },
    {
     "name": "stderr",
     "output_type": "stream",
     "text": [
      "C:\\Users\\Admin\\anaconda3\\lib\\site-packages\\statsmodels\\base\\model.py:566: ConvergenceWarning: Maximum Likelihood optimization failed to converge. Check mle_retvals\n",
      "  warnings.warn(\"Maximum Likelihood optimization failed to \"\n"
     ]
    },
    {
     "name": "stdout",
     "output_type": "stream",
     "text": [
      "[165. 141. 122. 102.] [165. 150. 154. 114.]\n",
      "11.094298200619626\n",
      "[165. 141. 122. 102.] [165. 150. 154. 114.]\n",
      "[51. 37. 46. 33.] [62. 46. 40. 41.]\n",
      "20.79471356964963\n",
      "[51. 37. 46. 33.] [62. 46. 40. 41.]\n",
      "[358. 321. 334. 297.] [362. 285. 319. 283.]\n",
      "5.384273596164699\n",
      "[358. 321. 334. 297.] [362. 285. 319. 283.]\n",
      "[44. 53. 50. 43.] [65. 31. 43. 38.]\n",
      "28.71615341657027\n",
      "[44. 53. 50. 43.] [65. 31. 43. 38.]\n"
     ]
    },
    {
     "name": "stderr",
     "output_type": "stream",
     "text": [
      "C:\\Users\\Admin\\anaconda3\\lib\\site-packages\\statsmodels\\base\\model.py:566: ConvergenceWarning: Maximum Likelihood optimization failed to converge. Check mle_retvals\n",
      "  warnings.warn(\"Maximum Likelihood optimization failed to \"\n",
      "C:\\Users\\Admin\\anaconda3\\lib\\site-packages\\statsmodels\\base\\model.py:566: ConvergenceWarning: Maximum Likelihood optimization failed to converge. Check mle_retvals\n",
      "  warnings.warn(\"Maximum Likelihood optimization failed to \"\n"
     ]
    },
    {
     "name": "stdout",
     "output_type": "stream",
     "text": [
      "[116. 110. 123. 100.] [146. 108. 100. 102.]\n",
      "12.094859443892245\n",
      "[116. 110. 123. 100.] [146. 108. 100. 102.]\n"
     ]
    },
    {
     "name": "stderr",
     "output_type": "stream",
     "text": [
      "C:\\Users\\Admin\\anaconda3\\lib\\site-packages\\statsmodels\\base\\model.py:566: ConvergenceWarning: Maximum Likelihood optimization failed to converge. Check mle_retvals\n",
      "  warnings.warn(\"Maximum Likelihood optimization failed to \"\n",
      "C:\\Users\\Admin\\anaconda3\\lib\\site-packages\\statsmodels\\base\\model.py:566: ConvergenceWarning: Maximum Likelihood optimization failed to converge. Check mle_retvals\n",
      "  warnings.warn(\"Maximum Likelihood optimization failed to \"\n",
      "C:\\Users\\Admin\\anaconda3\\lib\\site-packages\\statsmodels\\base\\model.py:566: ConvergenceWarning: Maximum Likelihood optimization failed to converge. Check mle_retvals\n",
      "  warnings.warn(\"Maximum Likelihood optimization failed to \"\n"
     ]
    },
    {
     "name": "stdout",
     "output_type": "stream",
     "text": [
      "[42.  6.  4.  2.] [18. 25. 10.  1.]\n",
      "143.45238095238096\n",
      "[42.  6.  4.  2.] [18. 25. 10.  1.]\n"
     ]
    },
    {
     "name": "stderr",
     "output_type": "stream",
     "text": [
      "C:\\Users\\Admin\\anaconda3\\lib\\site-packages\\statsmodels\\base\\model.py:566: ConvergenceWarning: Maximum Likelihood optimization failed to converge. Check mle_retvals\n",
      "  warnings.warn(\"Maximum Likelihood optimization failed to \"\n"
     ]
    },
    {
     "name": "stdout",
     "output_type": "stream",
     "text": [
      "[112. 128. 112. 103.] [121.  98.  98. 105.]\n",
      "11.478740464632455\n",
      "[112. 128. 112. 103.] [121.  98.  98. 105.]\n",
      "[40. 45. 32. 42.] [42. 40. 54. 34.]\n",
      "25.97718253968254\n",
      "[40. 45. 32. 42.] [42. 40. 54. 34.]\n"
     ]
    },
    {
     "name": "stderr",
     "output_type": "stream",
     "text": [
      "C:\\Users\\Admin\\anaconda3\\lib\\site-packages\\statsmodels\\base\\model.py:566: ConvergenceWarning: Maximum Likelihood optimization failed to converge. Check mle_retvals\n",
      "  warnings.warn(\"Maximum Likelihood optimization failed to \"\n",
      "C:\\Users\\Admin\\anaconda3\\lib\\site-packages\\statsmodels\\base\\model.py:566: ConvergenceWarning: Maximum Likelihood optimization failed to converge. Check mle_retvals\n",
      "  warnings.warn(\"Maximum Likelihood optimization failed to \"\n"
     ]
    },
    {
     "name": "stdout",
     "output_type": "stream",
     "text": [
      "[123. 115. 142. 123.] [123. 126. 184. 125.]\n",
      "10.192174610049836\n",
      "[123. 115. 142. 123.] [123. 126. 184. 125.]\n",
      "[142. 130.  96. 130.] [126. 141. 140. 121.]\n",
      "18.12138858793788\n",
      "[142. 130.  96. 130.] [126. 141. 140. 121.]\n",
      "[142. 113. 136. 111.] [141. 127. 127. 128.]\n",
      "8.756642064306243\n",
      "[142. 113. 136. 111.] [141. 127. 127. 128.]\n"
     ]
    },
    {
     "name": "stderr",
     "output_type": "stream",
     "text": [
      "C:\\Users\\Admin\\anaconda3\\lib\\site-packages\\statsmodels\\base\\model.py:566: ConvergenceWarning: Maximum Likelihood optimization failed to converge. Check mle_retvals\n",
      "  warnings.warn(\"Maximum Likelihood optimization failed to \"\n",
      "C:\\Users\\Admin\\anaconda3\\lib\\site-packages\\statsmodels\\base\\model.py:566: ConvergenceWarning: Maximum Likelihood optimization failed to converge. Check mle_retvals\n",
      "  warnings.warn(\"Maximum Likelihood optimization failed to \"\n",
      "C:\\Users\\Admin\\anaconda3\\lib\\site-packages\\statsmodels\\base\\model.py:566: ConvergenceWarning: Maximum Likelihood optimization failed to converge. Check mle_retvals\n",
      "  warnings.warn(\"Maximum Likelihood optimization failed to \"\n",
      "C:\\Users\\Admin\\anaconda3\\lib\\site-packages\\statsmodels\\base\\model.py:566: ConvergenceWarning: Maximum Likelihood optimization failed to converge. Check mle_retvals\n",
      "  warnings.warn(\"Maximum Likelihood optimization failed to \"\n",
      "C:\\Users\\Admin\\anaconda3\\lib\\site-packages\\statsmodels\\base\\model.py:566: ConvergenceWarning: Maximum Likelihood optimization failed to converge. Check mle_retvals\n",
      "  warnings.warn(\"Maximum Likelihood optimization failed to \"\n"
     ]
    },
    {
     "name": "stdout",
     "output_type": "stream",
     "text": [
      "[196. 163. 186. 185.] [158. 177. 169. 183.]\n",
      "9.549394546143294\n",
      "[196. 163. 186. 185.] [158. 177. 169. 183.]\n"
     ]
    },
    {
     "name": "stderr",
     "output_type": "stream",
     "text": [
      "C:\\Users\\Admin\\anaconda3\\lib\\site-packages\\statsmodels\\base\\model.py:566: ConvergenceWarning: Maximum Likelihood optimization failed to converge. Check mle_retvals\n",
      "  warnings.warn(\"Maximum Likelihood optimization failed to \"\n",
      "C:\\Users\\Admin\\anaconda3\\lib\\site-packages\\statsmodels\\base\\model.py:566: ConvergenceWarning: Maximum Likelihood optimization failed to converge. Check mle_retvals\n",
      "  warnings.warn(\"Maximum Likelihood optimization failed to \"\n",
      "C:\\Users\\Admin\\anaconda3\\lib\\site-packages\\statsmodels\\base\\model.py:566: ConvergenceWarning: Maximum Likelihood optimization failed to converge. Check mle_retvals\n",
      "  warnings.warn(\"Maximum Likelihood optimization failed to \"\n",
      "C:\\Users\\Admin\\anaconda3\\lib\\site-packages\\statsmodels\\base\\model.py:566: ConvergenceWarning: Maximum Likelihood optimization failed to converge. Check mle_retvals\n",
      "  warnings.warn(\"Maximum Likelihood optimization failed to \"\n"
     ]
    },
    {
     "name": "stdout",
     "output_type": "stream",
     "text": [
      "[169. 149. 193. 177.] [150. 154. 177. 190.]\n",
      "7.558274114264631\n",
      "[169. 149. 193. 177.] [150. 154. 177. 190.]\n",
      "[159. 130. 120. 120.] [133. 130. 164. 142.]\n",
      "17.83805031446541\n",
      "[159. 130. 120. 120.] [133. 130. 164. 142.]\n",
      "[ 90.  82.  99. 105.] [ 74.  73.  85. 102.]\n",
      "11.437986133108085\n",
      "[ 90.  82.  99. 105.] [ 74.  73.  85. 102.]\n",
      "[ 72.  64.  91. 111.] [78. 62. 68. 95.]\n",
      "12.786868255618256\n",
      "[ 72.  64.  91. 111.] [78. 62. 68. 95.]\n",
      "[54. 36. 36. 50.] [46. 46. 50. 39.]\n",
      "25.87037037037037\n",
      "[54. 36. 36. 50.] [46. 46. 50. 39.]\n",
      "[149. 154. 150. 117.] [116. 125. 149. 124.]\n",
      "11.907098121863223\n",
      "[149. 154. 150. 117.] [116. 125. 149. 124.]\n",
      "[56. 67. 88. 86.] [68. 66. 81. 83.]\n",
      "8.591006572393244\n",
      "[56. 67. 88. 86.] [68. 66. 81. 83.]\n"
     ]
    },
    {
     "name": "stderr",
     "output_type": "stream",
     "text": [
      "C:\\Users\\Admin\\anaconda3\\lib\\site-packages\\statsmodels\\base\\model.py:566: ConvergenceWarning: Maximum Likelihood optimization failed to converge. Check mle_retvals\n",
      "  warnings.warn(\"Maximum Likelihood optimization failed to \"\n",
      "C:\\Users\\Admin\\anaconda3\\lib\\site-packages\\statsmodels\\base\\model.py:566: ConvergenceWarning: Maximum Likelihood optimization failed to converge. Check mle_retvals\n",
      "  warnings.warn(\"Maximum Likelihood optimization failed to \"\n"
     ]
    },
    {
     "name": "stdout",
     "output_type": "stream",
     "text": [
      "[74. 41. 69. 86.] [63. 52. 63. 62.]\n",
      "19.57419051891172\n",
      "[74. 41. 69. 86.] [63. 52. 63. 62.]\n"
     ]
    },
    {
     "name": "stderr",
     "output_type": "stream",
     "text": [
      "C:\\Users\\Admin\\anaconda3\\lib\\site-packages\\statsmodels\\base\\model.py:566: ConvergenceWarning: Maximum Likelihood optimization failed to converge. Check mle_retvals\n",
      "  warnings.warn(\"Maximum Likelihood optimization failed to \"\n",
      "C:\\Users\\Admin\\anaconda3\\lib\\site-packages\\statsmodels\\base\\model.py:566: ConvergenceWarning: Maximum Likelihood optimization failed to converge. Check mle_retvals\n",
      "  warnings.warn(\"Maximum Likelihood optimization failed to \"\n",
      "C:\\Users\\Admin\\anaconda3\\lib\\site-packages\\statsmodels\\base\\model.py:566: ConvergenceWarning: Maximum Likelihood optimization failed to converge. Check mle_retvals\n",
      "  warnings.warn(\"Maximum Likelihood optimization failed to \"\n",
      "C:\\Users\\Admin\\anaconda3\\lib\\site-packages\\statsmodels\\base\\model.py:566: ConvergenceWarning: Maximum Likelihood optimization failed to converge. Check mle_retvals\n",
      "  warnings.warn(\"Maximum Likelihood optimization failed to \"\n"
     ]
    },
    {
     "name": "stdout",
     "output_type": "stream",
     "text": [
      "[162. 111. 150. 141.] [156. 141. 121. 144.]\n",
      "13.047930909633038\n",
      "[162. 111. 150. 141.] [156. 141. 121. 144.]\n"
     ]
    },
    {
     "name": "stderr",
     "output_type": "stream",
     "text": [
      "C:\\Users\\Admin\\anaconda3\\lib\\site-packages\\statsmodels\\base\\model.py:566: ConvergenceWarning: Maximum Likelihood optimization failed to converge. Check mle_retvals\n",
      "  warnings.warn(\"Maximum Likelihood optimization failed to \"\n"
     ]
    },
    {
     "name": "stdout",
     "output_type": "stream",
     "text": [
      "[63. 59. 68. 72.] [57. 62. 71. 63.]\n",
      "7.880079998100936\n",
      "[63. 59. 68. 72.] [57. 62. 71. 63.]\n"
     ]
    },
    {
     "name": "stderr",
     "output_type": "stream",
     "text": [
      "C:\\Users\\Admin\\anaconda3\\lib\\site-packages\\statsmodels\\base\\model.py:566: ConvergenceWarning: Maximum Likelihood optimization failed to converge. Check mle_retvals\n",
      "  warnings.warn(\"Maximum Likelihood optimization failed to \"\n"
     ]
    },
    {
     "name": "stdout",
     "output_type": "stream",
     "text": [
      "[122. 117. 148. 140.] [137. 135. 138. 154.]\n",
      "11.109113527146313\n",
      "[122. 117. 148. 140.] [137. 135. 138. 154.]\n"
     ]
    },
    {
     "name": "stderr",
     "output_type": "stream",
     "text": [
      "C:\\Users\\Admin\\anaconda3\\lib\\site-packages\\statsmodels\\base\\model.py:566: ConvergenceWarning: Maximum Likelihood optimization failed to converge. Check mle_retvals\n",
      "  warnings.warn(\"Maximum Likelihood optimization failed to \"\n",
      "C:\\Users\\Admin\\anaconda3\\lib\\site-packages\\statsmodels\\base\\model.py:566: ConvergenceWarning: Maximum Likelihood optimization failed to converge. Check mle_retvals\n",
      "  warnings.warn(\"Maximum Likelihood optimization failed to \"\n",
      "C:\\Users\\Admin\\anaconda3\\lib\\site-packages\\statsmodels\\base\\model.py:566: ConvergenceWarning: Maximum Likelihood optimization failed to converge. Check mle_retvals\n",
      "  warnings.warn(\"Maximum Likelihood optimization failed to \"\n",
      "C:\\Users\\Admin\\anaconda3\\lib\\site-packages\\statsmodels\\base\\model.py:566: ConvergenceWarning: Maximum Likelihood optimization failed to converge. Check mle_retvals\n",
      "  warnings.warn(\"Maximum Likelihood optimization failed to \"\n"
     ]
    },
    {
     "name": "stdout",
     "output_type": "stream",
     "text": [
      "[ 18.  21.  21. 224.] [ 9. 22. 37. 42.]\n",
      "53.050595238095234\n",
      "[ 18.  21.  21. 224.] [ 9. 22. 37. 42.]\n",
      "[16. 34. 28. 15.] [24. 17. 29. 26.]\n",
      "44.226190476190474\n",
      "[16. 34. 28. 15.] [24. 17. 29. 26.]\n"
     ]
    },
    {
     "name": "stderr",
     "output_type": "stream",
     "text": [
      "C:\\Users\\Admin\\anaconda3\\lib\\site-packages\\statsmodels\\base\\model.py:566: ConvergenceWarning: Maximum Likelihood optimization failed to converge. Check mle_retvals\n",
      "  warnings.warn(\"Maximum Likelihood optimization failed to \"\n",
      "C:\\Users\\Admin\\anaconda3\\lib\\site-packages\\statsmodels\\base\\model.py:566: ConvergenceWarning: Maximum Likelihood optimization failed to converge. Check mle_retvals\n",
      "  warnings.warn(\"Maximum Likelihood optimization failed to \"\n",
      "C:\\Users\\Admin\\anaconda3\\lib\\site-packages\\statsmodels\\base\\model.py:566: ConvergenceWarning: Maximum Likelihood optimization failed to converge. Check mle_retvals\n",
      "  warnings.warn(\"Maximum Likelihood optimization failed to \"\n",
      "C:\\Users\\Admin\\anaconda3\\lib\\site-packages\\statsmodels\\base\\model.py:566: ConvergenceWarning: Maximum Likelihood optimization failed to converge. Check mle_retvals\n",
      "  warnings.warn(\"Maximum Likelihood optimization failed to \"\n",
      "C:\\Users\\Admin\\anaconda3\\lib\\site-packages\\statsmodels\\base\\model.py:566: ConvergenceWarning: Maximum Likelihood optimization failed to converge. Check mle_retvals\n",
      "  warnings.warn(\"Maximum Likelihood optimization failed to \"\n",
      "C:\\Users\\Admin\\anaconda3\\lib\\site-packages\\statsmodels\\base\\model.py:566: ConvergenceWarning: Maximum Likelihood optimization failed to converge. Check mle_retvals\n",
      "  warnings.warn(\"Maximum Likelihood optimization failed to \"\n",
      "C:\\Users\\Admin\\anaconda3\\lib\\site-packages\\statsmodels\\base\\model.py:566: ConvergenceWarning: Maximum Likelihood optimization failed to converge. Check mle_retvals\n",
      "  warnings.warn(\"Maximum Likelihood optimization failed to \"\n"
     ]
    },
    {
     "name": "stdout",
     "output_type": "stream",
     "text": [
      "[0. 0. 0. 0.] [-0. -0.  0.  0.]\n",
      "0.0\n",
      "[0. 0. 0. 0.] [-0. -0.  0.  0.]\n",
      "[0. 1. 0. 0.] [-2. -1. -0. -2.]\n",
      "50.0\n",
      "[0. 1. 0. 0.] [-2. -1. -0. -2.]\n",
      "[0. 1. 0. 0.] [3. 1. 1. 1.]\n",
      "75.0\n",
      "[0. 1. 0. 0.] [3. 1. 1. 1.]\n",
      "[11. 29. 26. 27.] [35. 31. 28. 36.]\n",
      "66.52600273289929\n",
      "[11. 29. 26. 27.] [35. 31. 28. 36.]\n",
      "[4. 0. 0. 4.] [ 1. -2. -1. -1.]\n",
      "50.0\n",
      "[4. 0. 0. 4.] [ 1. -2. -1. -1.]\n",
      "[77.  5.  1.  0.] [44.  1.  1.  3.]\n",
      "55.714285714285715\n",
      "[77.  5.  1.  0.] [44.  1.  1.  3.]\n"
     ]
    },
    {
     "name": "stderr",
     "output_type": "stream",
     "text": [
      "C:\\Users\\Admin\\anaconda3\\lib\\site-packages\\statsmodels\\base\\model.py:566: ConvergenceWarning: Maximum Likelihood optimization failed to converge. Check mle_retvals\n",
      "  warnings.warn(\"Maximum Likelihood optimization failed to \"\n",
      "C:\\Users\\Admin\\anaconda3\\lib\\site-packages\\statsmodels\\base\\model.py:566: ConvergenceWarning: Maximum Likelihood optimization failed to converge. Check mle_retvals\n",
      "  warnings.warn(\"Maximum Likelihood optimization failed to \"\n"
     ]
    },
    {
     "name": "stdout",
     "output_type": "stream",
     "text": [
      "[117. 165. 182. 168.] [173. 142. 160. 157.]\n",
      "20.10954323454324\n",
      "[117. 165. 182. 168.] [173. 142. 160. 157.]\n"
     ]
    },
    {
     "name": "stderr",
     "output_type": "stream",
     "text": [
      "C:\\Users\\Admin\\anaconda3\\lib\\site-packages\\statsmodels\\base\\model.py:566: ConvergenceWarning: Maximum Likelihood optimization failed to converge. Check mle_retvals\n",
      "  warnings.warn(\"Maximum Likelihood optimization failed to \"\n"
     ]
    },
    {
     "name": "stdout",
     "output_type": "stream",
     "text": [
      "[ 1.  2.  7. 17.] [-0.  0.  1.  3.]\n",
      "92.01680672268908\n",
      "[ 1.  2.  7. 17.] [-0.  0.  1.  3.]\n",
      "Time taken 505.09375\n"
     ]
    }
   ],
   "source": [
    "test=sarima(final_core,0,100,4)"
   ]
  },
  {
   "cell_type": "code",
   "execution_count": 146,
   "metadata": {},
   "outputs": [
    {
     "data": {
      "text/html": [
       "<div>\n",
       "<style scoped>\n",
       "    .dataframe tbody tr th:only-of-type {\n",
       "        vertical-align: middle;\n",
       "    }\n",
       "\n",
       "    .dataframe tbody tr th {\n",
       "        vertical-align: top;\n",
       "    }\n",
       "\n",
       "    .dataframe thead th {\n",
       "        text-align: right;\n",
       "    }\n",
       "</style>\n",
       "<table border=\"1\" class=\"dataframe\">\n",
       "  <thead>\n",
       "    <tr style=\"text-align: right;\">\n",
       "      <th></th>\n",
       "      <th>date</th>\n",
       "      <th>upc_code</th>\n",
       "      <th>actual</th>\n",
       "      <th>forecast</th>\n",
       "      <th>mape</th>\n",
       "    </tr>\n",
       "  </thead>\n",
       "  <tbody>\n",
       "    <tr>\n",
       "      <th>0</th>\n",
       "      <td>2019-03-01</td>\n",
       "      <td>710114</td>\n",
       "      <td>565.0</td>\n",
       "      <td>523</td>\n",
       "      <td>23</td>\n",
       "    </tr>\n",
       "    <tr>\n",
       "      <th>1</th>\n",
       "      <td>2019-04-01</td>\n",
       "      <td>710114</td>\n",
       "      <td>487.0</td>\n",
       "      <td>481</td>\n",
       "      <td>23</td>\n",
       "    </tr>\n",
       "    <tr>\n",
       "      <th>2</th>\n",
       "      <td>2019-05-01</td>\n",
       "      <td>710114</td>\n",
       "      <td>526.0</td>\n",
       "      <td>527</td>\n",
       "      <td>23</td>\n",
       "    </tr>\n",
       "    <tr>\n",
       "      <th>3</th>\n",
       "      <td>2019-06-01</td>\n",
       "      <td>710114</td>\n",
       "      <td>251.0</td>\n",
       "      <td>464</td>\n",
       "      <td>23</td>\n",
       "    </tr>\n",
       "    <tr>\n",
       "      <th>0</th>\n",
       "      <td>2019-07-01</td>\n",
       "      <td>710114</td>\n",
       "      <td>NA</td>\n",
       "      <td>305</td>\n",
       "      <td>23</td>\n",
       "    </tr>\n",
       "    <tr>\n",
       "      <th>1</th>\n",
       "      <td>2019-08-01</td>\n",
       "      <td>710114</td>\n",
       "      <td>NA</td>\n",
       "      <td>389</td>\n",
       "      <td>23</td>\n",
       "    </tr>\n",
       "    <tr>\n",
       "      <th>2</th>\n",
       "      <td>2019-09-01</td>\n",
       "      <td>710114</td>\n",
       "      <td>NA</td>\n",
       "      <td>357</td>\n",
       "      <td>23</td>\n",
       "    </tr>\n",
       "    <tr>\n",
       "      <th>3</th>\n",
       "      <td>2019-10-01</td>\n",
       "      <td>710114</td>\n",
       "      <td>NA</td>\n",
       "      <td>379</td>\n",
       "      <td>23</td>\n",
       "    </tr>\n",
       "    <tr>\n",
       "      <th>0</th>\n",
       "      <td>2019-03-01</td>\n",
       "      <td>711814</td>\n",
       "      <td>165.0</td>\n",
       "      <td>165</td>\n",
       "      <td>11</td>\n",
       "    </tr>\n",
       "  </tbody>\n",
       "</table>\n",
       "</div>"
      ],
      "text/plain": [
       "        date  upc_code actual  forecast  mape\n",
       "0 2019-03-01    710114  565.0       523    23\n",
       "1 2019-04-01    710114  487.0       481    23\n",
       "2 2019-05-01    710114  526.0       527    23\n",
       "3 2019-06-01    710114  251.0       464    23\n",
       "0 2019-07-01    710114     NA       305    23\n",
       "1 2019-08-01    710114     NA       389    23\n",
       "2 2019-09-01    710114     NA       357    23\n",
       "3 2019-10-01    710114     NA       379    23\n",
       "0 2019-03-01    711814  165.0       165    11"
      ]
     },
     "execution_count": 146,
     "metadata": {},
     "output_type": "execute_result"
    }
   ],
   "source": [
    "test.head(9)"
   ]
  },
  {
   "cell_type": "code",
   "execution_count": 147,
   "metadata": {},
   "outputs": [
    {
     "name": "stderr",
     "output_type": "stream",
     "text": [
      "C:\\Users\\Admin\\anaconda3\\lib\\site-packages\\statsmodels\\tsa\\base\\tsa_model.py:132: FutureWarning: The 'freq' argument in Timestamp is deprecated and will be removed in a future version.\n",
      "  date_key = Timestamp(key, freq=base_index.freq)\n"
     ]
    },
    {
     "name": "stdout",
     "output_type": "stream",
     "text": [
      "[565. 487. 526. 251.] [523. 481. 527. 464.]\n",
      "23.429083252539723\n",
      "[565. 487. 526. 251.] [523. 481. 527. 464.]\n"
     ]
    },
    {
     "name": "stderr",
     "output_type": "stream",
     "text": [
      "C:\\Users\\Admin\\anaconda3\\lib\\site-packages\\statsmodels\\base\\model.py:566: ConvergenceWarning: Maximum Likelihood optimization failed to converge. Check mle_retvals\n",
      "  warnings.warn(\"Maximum Likelihood optimization failed to \"\n"
     ]
    },
    {
     "name": "stdout",
     "output_type": "stream",
     "text": [
      "[165. 141. 122. 102.] [165. 150. 154. 114.]\n",
      "11.094298200619626\n",
      "[165. 141. 122. 102.] [165. 150. 154. 114.]\n",
      "[51. 37. 46. 33.] [62. 46. 40. 41.]\n",
      "20.79471356964963\n",
      "[51. 37. 46. 33.] [62. 46. 40. 41.]\n",
      "[358. 321. 334. 297.] [362. 285. 319. 283.]\n",
      "5.384273596164699\n",
      "[358. 321. 334. 297.] [362. 285. 319. 283.]\n",
      "[44. 53. 50. 43.] [65. 31. 43. 38.]\n",
      "28.71615341657027\n",
      "[44. 53. 50. 43.] [65. 31. 43. 38.]\n"
     ]
    },
    {
     "name": "stderr",
     "output_type": "stream",
     "text": [
      "C:\\Users\\Admin\\anaconda3\\lib\\site-packages\\statsmodels\\base\\model.py:566: ConvergenceWarning: Maximum Likelihood optimization failed to converge. Check mle_retvals\n",
      "  warnings.warn(\"Maximum Likelihood optimization failed to \"\n",
      "C:\\Users\\Admin\\anaconda3\\lib\\site-packages\\statsmodels\\base\\model.py:566: ConvergenceWarning: Maximum Likelihood optimization failed to converge. Check mle_retvals\n",
      "  warnings.warn(\"Maximum Likelihood optimization failed to \"\n"
     ]
    },
    {
     "name": "stdout",
     "output_type": "stream",
     "text": [
      "[116. 110. 123. 100.] [146. 108. 100. 102.]\n",
      "12.094859443892245\n",
      "[116. 110. 123. 100.] [146. 108. 100. 102.]\n"
     ]
    },
    {
     "name": "stderr",
     "output_type": "stream",
     "text": [
      "C:\\Users\\Admin\\anaconda3\\lib\\site-packages\\statsmodels\\base\\model.py:566: ConvergenceWarning: Maximum Likelihood optimization failed to converge. Check mle_retvals\n",
      "  warnings.warn(\"Maximum Likelihood optimization failed to \"\n",
      "C:\\Users\\Admin\\anaconda3\\lib\\site-packages\\statsmodels\\base\\model.py:566: ConvergenceWarning: Maximum Likelihood optimization failed to converge. Check mle_retvals\n",
      "  warnings.warn(\"Maximum Likelihood optimization failed to \"\n",
      "C:\\Users\\Admin\\anaconda3\\lib\\site-packages\\statsmodels\\base\\model.py:566: ConvergenceWarning: Maximum Likelihood optimization failed to converge. Check mle_retvals\n",
      "  warnings.warn(\"Maximum Likelihood optimization failed to \"\n"
     ]
    },
    {
     "name": "stdout",
     "output_type": "stream",
     "text": [
      "[42.  6.  4.  2.] [18. 25. 10.  1.]\n",
      "143.45238095238096\n",
      "[42.  6.  4.  2.] [18. 25. 10.  1.]\n"
     ]
    },
    {
     "name": "stderr",
     "output_type": "stream",
     "text": [
      "C:\\Users\\Admin\\anaconda3\\lib\\site-packages\\statsmodels\\base\\model.py:566: ConvergenceWarning: Maximum Likelihood optimization failed to converge. Check mle_retvals\n",
      "  warnings.warn(\"Maximum Likelihood optimization failed to \"\n"
     ]
    },
    {
     "name": "stdout",
     "output_type": "stream",
     "text": [
      "[112. 128. 112. 103.] [121.  98.  98. 105.]\n",
      "11.478740464632455\n",
      "[112. 128. 112. 103.] [121.  98.  98. 105.]\n",
      "[40. 45. 32. 42.] [42. 40. 54. 34.]\n",
      "25.97718253968254\n",
      "[40. 45. 32. 42.] [42. 40. 54. 34.]\n"
     ]
    },
    {
     "name": "stderr",
     "output_type": "stream",
     "text": [
      "C:\\Users\\Admin\\anaconda3\\lib\\site-packages\\statsmodels\\base\\model.py:566: ConvergenceWarning: Maximum Likelihood optimization failed to converge. Check mle_retvals\n",
      "  warnings.warn(\"Maximum Likelihood optimization failed to \"\n",
      "C:\\Users\\Admin\\anaconda3\\lib\\site-packages\\statsmodels\\base\\model.py:566: ConvergenceWarning: Maximum Likelihood optimization failed to converge. Check mle_retvals\n",
      "  warnings.warn(\"Maximum Likelihood optimization failed to \"\n"
     ]
    },
    {
     "name": "stdout",
     "output_type": "stream",
     "text": [
      "[123. 115. 142. 123.] [123. 126. 184. 125.]\n",
      "10.192174610049836\n",
      "[123. 115. 142. 123.] [123. 126. 184. 125.]\n",
      "[142. 130.  96. 130.] [126. 141. 140. 121.]\n",
      "18.12138858793788\n",
      "[142. 130.  96. 130.] [126. 141. 140. 121.]\n",
      "[142. 113. 136. 111.] [141. 127. 127. 128.]\n",
      "8.756642064306243\n",
      "[142. 113. 136. 111.] [141. 127. 127. 128.]\n"
     ]
    },
    {
     "name": "stderr",
     "output_type": "stream",
     "text": [
      "C:\\Users\\Admin\\anaconda3\\lib\\site-packages\\statsmodels\\base\\model.py:566: ConvergenceWarning: Maximum Likelihood optimization failed to converge. Check mle_retvals\n",
      "  warnings.warn(\"Maximum Likelihood optimization failed to \"\n",
      "C:\\Users\\Admin\\anaconda3\\lib\\site-packages\\statsmodels\\base\\model.py:566: ConvergenceWarning: Maximum Likelihood optimization failed to converge. Check mle_retvals\n",
      "  warnings.warn(\"Maximum Likelihood optimization failed to \"\n",
      "C:\\Users\\Admin\\anaconda3\\lib\\site-packages\\statsmodels\\base\\model.py:566: ConvergenceWarning: Maximum Likelihood optimization failed to converge. Check mle_retvals\n",
      "  warnings.warn(\"Maximum Likelihood optimization failed to \"\n",
      "C:\\Users\\Admin\\anaconda3\\lib\\site-packages\\statsmodels\\base\\model.py:566: ConvergenceWarning: Maximum Likelihood optimization failed to converge. Check mle_retvals\n",
      "  warnings.warn(\"Maximum Likelihood optimization failed to \"\n",
      "C:\\Users\\Admin\\anaconda3\\lib\\site-packages\\statsmodels\\base\\model.py:566: ConvergenceWarning: Maximum Likelihood optimization failed to converge. Check mle_retvals\n",
      "  warnings.warn(\"Maximum Likelihood optimization failed to \"\n"
     ]
    },
    {
     "name": "stdout",
     "output_type": "stream",
     "text": [
      "[196. 163. 186. 185.] [158. 177. 169. 183.]\n",
      "9.549394546143294\n",
      "[196. 163. 186. 185.] [158. 177. 169. 183.]\n"
     ]
    },
    {
     "name": "stderr",
     "output_type": "stream",
     "text": [
      "C:\\Users\\Admin\\anaconda3\\lib\\site-packages\\statsmodels\\base\\model.py:566: ConvergenceWarning: Maximum Likelihood optimization failed to converge. Check mle_retvals\n",
      "  warnings.warn(\"Maximum Likelihood optimization failed to \"\n",
      "C:\\Users\\Admin\\anaconda3\\lib\\site-packages\\statsmodels\\base\\model.py:566: ConvergenceWarning: Maximum Likelihood optimization failed to converge. Check mle_retvals\n",
      "  warnings.warn(\"Maximum Likelihood optimization failed to \"\n",
      "C:\\Users\\Admin\\anaconda3\\lib\\site-packages\\statsmodels\\base\\model.py:566: ConvergenceWarning: Maximum Likelihood optimization failed to converge. Check mle_retvals\n",
      "  warnings.warn(\"Maximum Likelihood optimization failed to \"\n",
      "C:\\Users\\Admin\\anaconda3\\lib\\site-packages\\statsmodels\\base\\model.py:566: ConvergenceWarning: Maximum Likelihood optimization failed to converge. Check mle_retvals\n",
      "  warnings.warn(\"Maximum Likelihood optimization failed to \"\n"
     ]
    },
    {
     "name": "stdout",
     "output_type": "stream",
     "text": [
      "[169. 149. 193. 177.] [150. 154. 177. 190.]\n",
      "7.558274114264631\n",
      "[169. 149. 193. 177.] [150. 154. 177. 190.]\n",
      "[159. 130. 120. 120.] [133. 130. 164. 142.]\n",
      "17.83805031446541\n",
      "[159. 130. 120. 120.] [133. 130. 164. 142.]\n",
      "[ 90.  82.  99. 105.] [ 74.  73.  85. 102.]\n",
      "11.437986133108085\n",
      "[ 90.  82.  99. 105.] [ 74.  73.  85. 102.]\n",
      "[ 72.  64.  91. 111.] [78. 62. 68. 95.]\n",
      "12.786868255618256\n",
      "[ 72.  64.  91. 111.] [78. 62. 68. 95.]\n",
      "[54. 36. 36. 50.] [46. 46. 50. 39.]\n",
      "25.87037037037037\n",
      "[54. 36. 36. 50.] [46. 46. 50. 39.]\n",
      "[149. 154. 150. 117.] [116. 125. 149. 124.]\n",
      "11.907098121863223\n",
      "[149. 154. 150. 117.] [116. 125. 149. 124.]\n",
      "[56. 67. 88. 86.] [68. 66. 81. 83.]\n",
      "8.591006572393244\n",
      "[56. 67. 88. 86.] [68. 66. 81. 83.]\n"
     ]
    },
    {
     "name": "stderr",
     "output_type": "stream",
     "text": [
      "C:\\Users\\Admin\\anaconda3\\lib\\site-packages\\statsmodels\\base\\model.py:566: ConvergenceWarning: Maximum Likelihood optimization failed to converge. Check mle_retvals\n",
      "  warnings.warn(\"Maximum Likelihood optimization failed to \"\n",
      "C:\\Users\\Admin\\anaconda3\\lib\\site-packages\\statsmodels\\base\\model.py:566: ConvergenceWarning: Maximum Likelihood optimization failed to converge. Check mle_retvals\n",
      "  warnings.warn(\"Maximum Likelihood optimization failed to \"\n"
     ]
    },
    {
     "name": "stdout",
     "output_type": "stream",
     "text": [
      "[74. 41. 69. 86.] [63. 52. 63. 62.]\n",
      "19.57419051891172\n",
      "[74. 41. 69. 86.] [63. 52. 63. 62.]\n"
     ]
    },
    {
     "name": "stderr",
     "output_type": "stream",
     "text": [
      "C:\\Users\\Admin\\anaconda3\\lib\\site-packages\\statsmodels\\base\\model.py:566: ConvergenceWarning: Maximum Likelihood optimization failed to converge. Check mle_retvals\n",
      "  warnings.warn(\"Maximum Likelihood optimization failed to \"\n",
      "C:\\Users\\Admin\\anaconda3\\lib\\site-packages\\statsmodels\\base\\model.py:566: ConvergenceWarning: Maximum Likelihood optimization failed to converge. Check mle_retvals\n",
      "  warnings.warn(\"Maximum Likelihood optimization failed to \"\n",
      "C:\\Users\\Admin\\anaconda3\\lib\\site-packages\\statsmodels\\base\\model.py:566: ConvergenceWarning: Maximum Likelihood optimization failed to converge. Check mle_retvals\n",
      "  warnings.warn(\"Maximum Likelihood optimization failed to \"\n",
      "C:\\Users\\Admin\\anaconda3\\lib\\site-packages\\statsmodels\\base\\model.py:566: ConvergenceWarning: Maximum Likelihood optimization failed to converge. Check mle_retvals\n",
      "  warnings.warn(\"Maximum Likelihood optimization failed to \"\n"
     ]
    },
    {
     "name": "stdout",
     "output_type": "stream",
     "text": [
      "[162. 111. 150. 141.] [156. 141. 121. 144.]\n",
      "13.047930909633038\n",
      "[162. 111. 150. 141.] [156. 141. 121. 144.]\n"
     ]
    },
    {
     "name": "stderr",
     "output_type": "stream",
     "text": [
      "C:\\Users\\Admin\\anaconda3\\lib\\site-packages\\statsmodels\\base\\model.py:566: ConvergenceWarning: Maximum Likelihood optimization failed to converge. Check mle_retvals\n",
      "  warnings.warn(\"Maximum Likelihood optimization failed to \"\n"
     ]
    },
    {
     "name": "stdout",
     "output_type": "stream",
     "text": [
      "[63. 59. 68. 72.] [57. 62. 71. 63.]\n",
      "7.880079998100936\n",
      "[63. 59. 68. 72.] [57. 62. 71. 63.]\n"
     ]
    },
    {
     "name": "stderr",
     "output_type": "stream",
     "text": [
      "C:\\Users\\Admin\\anaconda3\\lib\\site-packages\\statsmodels\\base\\model.py:566: ConvergenceWarning: Maximum Likelihood optimization failed to converge. Check mle_retvals\n",
      "  warnings.warn(\"Maximum Likelihood optimization failed to \"\n"
     ]
    },
    {
     "name": "stdout",
     "output_type": "stream",
     "text": [
      "[122. 117. 148. 140.] [137. 135. 138. 154.]\n",
      "11.109113527146313\n",
      "[122. 117. 148. 140.] [137. 135. 138. 154.]\n"
     ]
    },
    {
     "name": "stderr",
     "output_type": "stream",
     "text": [
      "C:\\Users\\Admin\\anaconda3\\lib\\site-packages\\statsmodels\\base\\model.py:566: ConvergenceWarning: Maximum Likelihood optimization failed to converge. Check mle_retvals\n",
      "  warnings.warn(\"Maximum Likelihood optimization failed to \"\n",
      "C:\\Users\\Admin\\anaconda3\\lib\\site-packages\\statsmodels\\base\\model.py:566: ConvergenceWarning: Maximum Likelihood optimization failed to converge. Check mle_retvals\n",
      "  warnings.warn(\"Maximum Likelihood optimization failed to \"\n",
      "C:\\Users\\Admin\\anaconda3\\lib\\site-packages\\statsmodels\\base\\model.py:566: ConvergenceWarning: Maximum Likelihood optimization failed to converge. Check mle_retvals\n",
      "  warnings.warn(\"Maximum Likelihood optimization failed to \"\n",
      "C:\\Users\\Admin\\anaconda3\\lib\\site-packages\\statsmodels\\base\\model.py:566: ConvergenceWarning: Maximum Likelihood optimization failed to converge. Check mle_retvals\n",
      "  warnings.warn(\"Maximum Likelihood optimization failed to \"\n"
     ]
    },
    {
     "name": "stdout",
     "output_type": "stream",
     "text": [
      "[ 18.  21.  21. 224.] [ 9. 22. 37. 42.]\n",
      "53.050595238095234\n",
      "[ 18.  21.  21. 224.] [ 9. 22. 37. 42.]\n",
      "[16. 34. 28. 15.] [24. 17. 29. 26.]\n",
      "44.226190476190474\n",
      "[16. 34. 28. 15.] [24. 17. 29. 26.]\n"
     ]
    },
    {
     "name": "stderr",
     "output_type": "stream",
     "text": [
      "C:\\Users\\Admin\\anaconda3\\lib\\site-packages\\statsmodels\\base\\model.py:566: ConvergenceWarning: Maximum Likelihood optimization failed to converge. Check mle_retvals\n",
      "  warnings.warn(\"Maximum Likelihood optimization failed to \"\n",
      "C:\\Users\\Admin\\anaconda3\\lib\\site-packages\\statsmodels\\base\\model.py:566: ConvergenceWarning: Maximum Likelihood optimization failed to converge. Check mle_retvals\n",
      "  warnings.warn(\"Maximum Likelihood optimization failed to \"\n",
      "C:\\Users\\Admin\\anaconda3\\lib\\site-packages\\statsmodels\\base\\model.py:566: ConvergenceWarning: Maximum Likelihood optimization failed to converge. Check mle_retvals\n",
      "  warnings.warn(\"Maximum Likelihood optimization failed to \"\n",
      "C:\\Users\\Admin\\anaconda3\\lib\\site-packages\\statsmodels\\base\\model.py:566: ConvergenceWarning: Maximum Likelihood optimization failed to converge. Check mle_retvals\n",
      "  warnings.warn(\"Maximum Likelihood optimization failed to \"\n",
      "C:\\Users\\Admin\\anaconda3\\lib\\site-packages\\statsmodels\\base\\model.py:566: ConvergenceWarning: Maximum Likelihood optimization failed to converge. Check mle_retvals\n",
      "  warnings.warn(\"Maximum Likelihood optimization failed to \"\n",
      "C:\\Users\\Admin\\anaconda3\\lib\\site-packages\\statsmodels\\base\\model.py:566: ConvergenceWarning: Maximum Likelihood optimization failed to converge. Check mle_retvals\n",
      "  warnings.warn(\"Maximum Likelihood optimization failed to \"\n",
      "C:\\Users\\Admin\\anaconda3\\lib\\site-packages\\statsmodels\\base\\model.py:566: ConvergenceWarning: Maximum Likelihood optimization failed to converge. Check mle_retvals\n",
      "  warnings.warn(\"Maximum Likelihood optimization failed to \"\n"
     ]
    },
    {
     "name": "stdout",
     "output_type": "stream",
     "text": [
      "[0. 0. 0. 0.] [-0. -0.  0.  0.]\n",
      "0.0\n",
      "[0. 0. 0. 0.] [-0. -0.  0.  0.]\n",
      "[0. 1. 0. 0.] [-2. -1. -0. -2.]\n",
      "50.0\n",
      "[0. 1. 0. 0.] [-2. -1. -0. -2.]\n",
      "[0. 1. 0. 0.] [3. 1. 1. 1.]\n",
      "75.0\n",
      "[0. 1. 0. 0.] [3. 1. 1. 1.]\n",
      "[11. 29. 26. 27.] [35. 31. 28. 36.]\n",
      "66.52600273289929\n",
      "[11. 29. 26. 27.] [35. 31. 28. 36.]\n",
      "[4. 0. 0. 4.] [ 1. -2. -1. -1.]\n",
      "50.0\n",
      "[4. 0. 0. 4.] [ 1. -2. -1. -1.]\n",
      "[77.  5.  1.  0.] [44.  1.  1.  3.]\n",
      "55.714285714285715\n",
      "[77.  5.  1.  0.] [44.  1.  1.  3.]\n"
     ]
    },
    {
     "name": "stderr",
     "output_type": "stream",
     "text": [
      "C:\\Users\\Admin\\anaconda3\\lib\\site-packages\\statsmodels\\base\\model.py:566: ConvergenceWarning: Maximum Likelihood optimization failed to converge. Check mle_retvals\n",
      "  warnings.warn(\"Maximum Likelihood optimization failed to \"\n",
      "C:\\Users\\Admin\\anaconda3\\lib\\site-packages\\statsmodels\\base\\model.py:566: ConvergenceWarning: Maximum Likelihood optimization failed to converge. Check mle_retvals\n",
      "  warnings.warn(\"Maximum Likelihood optimization failed to \"\n"
     ]
    },
    {
     "name": "stdout",
     "output_type": "stream",
     "text": [
      "[117. 165. 182. 168.] [173. 142. 160. 157.]\n",
      "20.10954323454324\n",
      "[117. 165. 182. 168.] [173. 142. 160. 157.]\n"
     ]
    },
    {
     "name": "stderr",
     "output_type": "stream",
     "text": [
      "C:\\Users\\Admin\\anaconda3\\lib\\site-packages\\statsmodels\\base\\model.py:566: ConvergenceWarning: Maximum Likelihood optimization failed to converge. Check mle_retvals\n",
      "  warnings.warn(\"Maximum Likelihood optimization failed to \"\n"
     ]
    },
    {
     "name": "stdout",
     "output_type": "stream",
     "text": [
      "[ 1.  2.  7. 17.] [-0.  0.  1.  3.]\n",
      "92.01680672268908\n",
      "[ 1.  2.  7. 17.] [-0.  0.  1.  3.]\n",
      "Time taken 729.109375\n"
     ]
    }
   ],
   "source": [
    "test=sarima(final_core,0,100,4)"
   ]
  },
  {
   "cell_type": "code",
   "execution_count": null,
   "metadata": {},
   "outputs": [],
   "source": []
  },
  {
   "cell_type": "code",
   "execution_count": 136,
   "metadata": {},
   "outputs": [
    {
     "data": {
      "text/plain": [
       "Index(['date', 'upc_code', 'actual', 'forecast', 'mape'], dtype='object')"
      ]
     },
     "execution_count": 136,
     "metadata": {},
     "output_type": "execute_result"
    }
   ],
   "source": [
    "test.columns"
   ]
  },
  {
   "cell_type": "code",
   "execution_count": null,
   "metadata": {},
   "outputs": [],
   "source": [
    "UPC_COde,Start date end date "
   ]
  },
  {
   "cell_type": "code",
   "execution_count": null,
   "metadata": {},
   "outputs": [],
   "source": []
  },
  {
   "cell_type": "code",
   "execution_count": 137,
   "metadata": {},
   "outputs": [
    {
     "data": {
      "text/html": [
       "<div>\n",
       "<style scoped>\n",
       "    .dataframe tbody tr th:only-of-type {\n",
       "        vertical-align: middle;\n",
       "    }\n",
       "\n",
       "    .dataframe tbody tr th {\n",
       "        vertical-align: top;\n",
       "    }\n",
       "\n",
       "    .dataframe thead th {\n",
       "        text-align: right;\n",
       "    }\n",
       "</style>\n",
       "<table border=\"1\" class=\"dataframe\">\n",
       "  <thead>\n",
       "    <tr style=\"text-align: right;\">\n",
       "      <th></th>\n",
       "      <th>date</th>\n",
       "      <th>upc_code</th>\n",
       "      <th>actual</th>\n",
       "      <th>forecast</th>\n",
       "      <th>mape</th>\n",
       "    </tr>\n",
       "  </thead>\n",
       "  <tbody>\n",
       "    <tr>\n",
       "      <th>0</th>\n",
       "      <td>2019-03-01</td>\n",
       "      <td>710114</td>\n",
       "      <td>565.0</td>\n",
       "      <td>523</td>\n",
       "      <td>23</td>\n",
       "    </tr>\n",
       "    <tr>\n",
       "      <th>1</th>\n",
       "      <td>2019-04-01</td>\n",
       "      <td>710114</td>\n",
       "      <td>487.0</td>\n",
       "      <td>481</td>\n",
       "      <td>23</td>\n",
       "    </tr>\n",
       "    <tr>\n",
       "      <th>2</th>\n",
       "      <td>2019-05-01</td>\n",
       "      <td>710114</td>\n",
       "      <td>526.0</td>\n",
       "      <td>527</td>\n",
       "      <td>23</td>\n",
       "    </tr>\n",
       "    <tr>\n",
       "      <th>3</th>\n",
       "      <td>2019-06-01</td>\n",
       "      <td>710114</td>\n",
       "      <td>251.0</td>\n",
       "      <td>464</td>\n",
       "      <td>23</td>\n",
       "    </tr>\n",
       "    <tr>\n",
       "      <th>0</th>\n",
       "      <td>2019-07-01</td>\n",
       "      <td>710114</td>\n",
       "      <td>NA</td>\n",
       "      <td>305</td>\n",
       "      <td>23</td>\n",
       "    </tr>\n",
       "    <tr>\n",
       "      <th>1</th>\n",
       "      <td>2019-08-01</td>\n",
       "      <td>710114</td>\n",
       "      <td>NA</td>\n",
       "      <td>389</td>\n",
       "      <td>23</td>\n",
       "    </tr>\n",
       "    <tr>\n",
       "      <th>2</th>\n",
       "      <td>2019-09-01</td>\n",
       "      <td>710114</td>\n",
       "      <td>NA</td>\n",
       "      <td>357</td>\n",
       "      <td>23</td>\n",
       "    </tr>\n",
       "    <tr>\n",
       "      <th>3</th>\n",
       "      <td>2019-10-01</td>\n",
       "      <td>710114</td>\n",
       "      <td>NA</td>\n",
       "      <td>379</td>\n",
       "      <td>23</td>\n",
       "    </tr>\n",
       "    <tr>\n",
       "      <th>0</th>\n",
       "      <td>2019-03-01</td>\n",
       "      <td>711814</td>\n",
       "      <td>165.0</td>\n",
       "      <td>165</td>\n",
       "      <td>11</td>\n",
       "    </tr>\n",
       "    <tr>\n",
       "      <th>1</th>\n",
       "      <td>2019-04-01</td>\n",
       "      <td>711814</td>\n",
       "      <td>141.0</td>\n",
       "      <td>150</td>\n",
       "      <td>11</td>\n",
       "    </tr>\n",
       "    <tr>\n",
       "      <th>2</th>\n",
       "      <td>2019-05-01</td>\n",
       "      <td>711814</td>\n",
       "      <td>122.0</td>\n",
       "      <td>154</td>\n",
       "      <td>11</td>\n",
       "    </tr>\n",
       "    <tr>\n",
       "      <th>3</th>\n",
       "      <td>2019-06-01</td>\n",
       "      <td>711814</td>\n",
       "      <td>102.0</td>\n",
       "      <td>114</td>\n",
       "      <td>11</td>\n",
       "    </tr>\n",
       "    <tr>\n",
       "      <th>0</th>\n",
       "      <td>2019-07-01</td>\n",
       "      <td>711814</td>\n",
       "      <td>NA</td>\n",
       "      <td>119</td>\n",
       "      <td>11</td>\n",
       "    </tr>\n",
       "    <tr>\n",
       "      <th>1</th>\n",
       "      <td>2019-08-01</td>\n",
       "      <td>711814</td>\n",
       "      <td>NA</td>\n",
       "      <td>143</td>\n",
       "      <td>11</td>\n",
       "    </tr>\n",
       "    <tr>\n",
       "      <th>2</th>\n",
       "      <td>2019-09-01</td>\n",
       "      <td>711814</td>\n",
       "      <td>NA</td>\n",
       "      <td>130</td>\n",
       "      <td>11</td>\n",
       "    </tr>\n",
       "  </tbody>\n",
       "</table>\n",
       "</div>"
      ],
      "text/plain": [
       "        date  upc_code actual  forecast  mape\n",
       "0 2019-03-01    710114  565.0       523    23\n",
       "1 2019-04-01    710114  487.0       481    23\n",
       "2 2019-05-01    710114  526.0       527    23\n",
       "3 2019-06-01    710114  251.0       464    23\n",
       "0 2019-07-01    710114     NA       305    23\n",
       "1 2019-08-01    710114     NA       389    23\n",
       "2 2019-09-01    710114     NA       357    23\n",
       "3 2019-10-01    710114     NA       379    23\n",
       "0 2019-03-01    711814  165.0       165    11\n",
       "1 2019-04-01    711814  141.0       150    11\n",
       "2 2019-05-01    711814  122.0       154    11\n",
       "3 2019-06-01    711814  102.0       114    11\n",
       "0 2019-07-01    711814     NA       119    11\n",
       "1 2019-08-01    711814     NA       143    11\n",
       "2 2019-09-01    711814     NA       130    11"
      ]
     },
     "execution_count": 137,
     "metadata": {},
     "output_type": "execute_result"
    }
   ],
   "source": [
    "test.head(15)"
   ]
  },
  {
   "cell_type": "code",
   "execution_count": 82,
   "metadata": {},
   "outputs": [
    {
     "data": {
      "text/plain": [
       "Timestamp('2019-06-01 00:00:00')"
      ]
     },
     "execution_count": 82,
     "metadata": {},
     "output_type": "execute_result"
    }
   ],
   "source": [
    "maximumdate"
   ]
  },
  {
   "cell_type": "code",
   "execution_count": 98,
   "metadata": {},
   "outputs": [],
   "source": [
    "def sarima(dfi,st,end,UPC_Code,start_month,months):\n",
    "    '''Using Sarimax as model for demand forecasting where data having identification as normal and quaterly are considered \n",
    "       This function on execution will return a dataframe containing the forecast fo sales for relative customer item \n",
    "       combinations with Mape result'''\n",
    "    import time\n",
    "    start = time.process_time()\n",
    "    predicted = pd.DataFrame()\n",
    "    #print(start,end)\n",
    "    dfi=dfi[dfi[\"upc_code\"]==UPC_Code]\n",
    "    #print(dfi)\n",
    "    for i in list(dfi[\"upc_code\"].unique()[st:end]):\n",
    "        #print(i)\n",
    "        data = dfi[dfi[\"upc_code\"]==i].groupby('date')['quantity'].sum().reset_index()\n",
    "        data = data.set_index(\"date\")\n",
    "        y = data[\"quantity\"].resample(\"MS\").sum()\n",
    "        p = d = q = range(0, 2)\n",
    "        pdq = list(itertools.product(p, d, q))\n",
    "        seasonal_pdq = [(x[0], x[1], x[2], 12) for x in list(itertools.product(p, d, q))]\n",
    "        df_test_model=pd.DataFrame(columns=['P_D_Q','Seasonal_p-d-q','aic_score'])\n",
    "        #print(df_test_model)\n",
    "        for param in pdq:\n",
    "            for param_seasonal in seasonal_pdq:\n",
    "                try:\n",
    "                    mod = sm.tsa.statespace.SARIMAX(y,\n",
    "                                                order=param,\n",
    "                                                seasonal_order=param_seasonal,\n",
    "                                                enforce_stationarity=False,\n",
    "                                                enforce_invertibility=False)\n",
    "                    results = mod.fit(disp=False)\n",
    "                    #print(results)\n",
    "                    df_test_model=df_test_model.append({'P_D_Q':param,'Seasonal_p-d-q':param_seasonal,'aic_score':results.aic},ignore_index=True)\n",
    "                    #print('ARIMA{}x{}12 - AIC:{}'.format(param, param_seasonal, results.aic))\n",
    "                except:\n",
    "                    continue\n",
    "                #print(results)\n",
    "        #print(order)\n",
    "        order = df_test_model[df_test_model['aic_score']==df_test_model['aic_score'].min()][\"P_D_Q\"].values[0]\n",
    "\n",
    "        #print(order)\n",
    "        seasonal_order = df_test_model[df_test_model['aic_score']==df_test_model['aic_score'].min()][\"Seasonal_p-d-q\"].values[0]\n",
    "        mod = sm.tsa.statespace.SARIMAX(y,\n",
    "                                        order=order,\n",
    "                                        seasonal_order=seasonal_order,\n",
    "                                        enforce_stationarity=False,\n",
    "                                        enforce_invertibility=False)\n",
    "        results = mod.fit(disp=False)\n",
    "        #print(maximumdate+ pd.DateOffset(months=6),maximumdate+ pd.DateOffset(months=months))\n",
    "        pred = results.get_prediction(start=maximumdate-pd.DateOffset(months=months-1), dynamic=False)\n",
    "        pred1 = results.get_prediction(start=pd.to_datetime(start_month),end=pd.to_datetime(start_month)+ pd.DateOffset(months=months),dynamic=False)\n",
    "        y_forecasted1 = pred1.predicted_mean\n",
    "        y_forecasted = pred.predicted_mean\n",
    "        #print(y_forecasted)\n",
    "        y_truth = y[str(maximumdate-pd.DateOffset(months=months-1)):]\n",
    "        #y_forecasted=y_forecasted.clip(min=0)\n",
    "        #y_forecasted1= y_forecasted1.clip(min=0)\n",
    "        mse = ((y_forecasted - y_truth) ** 2).mean()\n",
    "        #y_forecasted.values=[0 if i < 0 else i for i in y_forecasted.values]\n",
    "        mape = mean_absolute_percentage_error(y_truth, y_forecasted)\n",
    "        y_forecasted_df=y_forecasted.to_frame().reset_index()\n",
    "        y_forecasted_df['actual']=y_truth.values\n",
    "        y_forecasted_df['mape']=round(mape)\n",
    "        y_forecasted_df['upc_code']=i\n",
    "        y_forecasted_df.columns=['date','forecast','actual','mape','upc_code']\n",
    "        #print(y_forecasted_df)\n",
    "        y_forecasted1_df=y_forecasted1.to_frame().reset_index()\n",
    "        y_forecasted1_df['actual']='NA'\n",
    "        y_forecasted1_df['mape']=round(mape)\n",
    "        y_forecasted1_df['upc_code']=i\n",
    "        y_forecasted1_df.columns=['date','forecast','actual','mape','upc_code']\n",
    "        final=pd.concat([y_forecasted_df,y_forecasted1_df])\n",
    "        final['forecast']=[round(negative(i)) for i in final['forecast']]\n",
    "        #print(final)\n",
    "        final=final[['date','upc_code','actual','forecast','mape']]\n",
    "        #print(final.shape)\n",
    "        if len(y_truth) != 0:\n",
    "            #for j in range(len(y_truth)):\n",
    "                #predicted = predicted.append({\"date\": y_forecasted.index.values[j], \"region_store_itemid_size_style_code_colour\": i, \"actual\": y_truth.values[j],\"forecast\": round(negative(y_forecasted.values[j])),\"mape\":round(mape),\"future_months\":y_forecasted1.index.values[j],\"future_forecast\":round(negative(y_forecasted1.values[j]))}, ignore_index=True)\n",
    "            predicted=predicted.append(final)\n",
    "        else:\n",
    "            predicted = predicted.append({\"date\": y_forecasted.index.values[0], \"upc_code\": i, \"actual\": 0,\"forecast\": round(y_forecasted.values[0]),\"mape\":-1}, ignore_index=True)    \n",
    "    print(\"Time taken\",time.process_time() - start)       \n",
    "    #print(predicted)\n",
    "    return predicted        \n",
    "    \n"
   ]
  },
  {
   "cell_type": "code",
   "execution_count": 101,
   "metadata": {},
   "outputs": [
    {
     "name": "stdout",
     "output_type": "stream",
     "text": [
      "[565. 487. 526. 251.] [523. 481. 527. 464.]\n",
      "23.429083252539723\n",
      "[565. 487. 526. 251.] [523. 481. 527. 464.]\n",
      "Time taken 22.9375\n"
     ]
    },
    {
     "name": "stderr",
     "output_type": "stream",
     "text": [
      "C:\\Users\\Admin\\anaconda3\\lib\\site-packages\\statsmodels\\tsa\\base\\tsa_model.py:132: FutureWarning: The 'freq' argument in Timestamp is deprecated and will be removed in a future version.\n",
      "  date_key = Timestamp(key, freq=base_index.freq)\n"
     ]
    }
   ],
   "source": [
    "test=sarima(final_core,0,10,710114,'2023-04-01',4)"
   ]
  },
  {
   "cell_type": "code",
   "execution_count": 102,
   "metadata": {},
   "outputs": [
    {
     "data": {
      "text/html": [
       "<div>\n",
       "<style scoped>\n",
       "    .dataframe tbody tr th:only-of-type {\n",
       "        vertical-align: middle;\n",
       "    }\n",
       "\n",
       "    .dataframe tbody tr th {\n",
       "        vertical-align: top;\n",
       "    }\n",
       "\n",
       "    .dataframe thead th {\n",
       "        text-align: right;\n",
       "    }\n",
       "</style>\n",
       "<table border=\"1\" class=\"dataframe\">\n",
       "  <thead>\n",
       "    <tr style=\"text-align: right;\">\n",
       "      <th></th>\n",
       "      <th>date</th>\n",
       "      <th>upc_code</th>\n",
       "      <th>actual</th>\n",
       "      <th>forecast</th>\n",
       "      <th>mape</th>\n",
       "    </tr>\n",
       "  </thead>\n",
       "  <tbody>\n",
       "    <tr>\n",
       "      <th>0</th>\n",
       "      <td>2019-03-01</td>\n",
       "      <td>710114</td>\n",
       "      <td>565.0</td>\n",
       "      <td>523</td>\n",
       "      <td>23</td>\n",
       "    </tr>\n",
       "    <tr>\n",
       "      <th>1</th>\n",
       "      <td>2019-04-01</td>\n",
       "      <td>710114</td>\n",
       "      <td>487.0</td>\n",
       "      <td>481</td>\n",
       "      <td>23</td>\n",
       "    </tr>\n",
       "    <tr>\n",
       "      <th>2</th>\n",
       "      <td>2019-05-01</td>\n",
       "      <td>710114</td>\n",
       "      <td>526.0</td>\n",
       "      <td>527</td>\n",
       "      <td>23</td>\n",
       "    </tr>\n",
       "    <tr>\n",
       "      <th>3</th>\n",
       "      <td>2019-06-01</td>\n",
       "      <td>710114</td>\n",
       "      <td>251.0</td>\n",
       "      <td>464</td>\n",
       "      <td>23</td>\n",
       "    </tr>\n",
       "    <tr>\n",
       "      <th>0</th>\n",
       "      <td>2023-04-01</td>\n",
       "      <td>710114</td>\n",
       "      <td>NA</td>\n",
       "      <td>72</td>\n",
       "      <td>23</td>\n",
       "    </tr>\n",
       "    <tr>\n",
       "      <th>1</th>\n",
       "      <td>2023-05-01</td>\n",
       "      <td>710114</td>\n",
       "      <td>NA</td>\n",
       "      <td>114</td>\n",
       "      <td>23</td>\n",
       "    </tr>\n",
       "    <tr>\n",
       "      <th>2</th>\n",
       "      <td>2023-06-01</td>\n",
       "      <td>710114</td>\n",
       "      <td>NA</td>\n",
       "      <td>0</td>\n",
       "      <td>23</td>\n",
       "    </tr>\n",
       "    <tr>\n",
       "      <th>3</th>\n",
       "      <td>2023-07-01</td>\n",
       "      <td>710114</td>\n",
       "      <td>NA</td>\n",
       "      <td>0</td>\n",
       "      <td>23</td>\n",
       "    </tr>\n",
       "    <tr>\n",
       "      <th>4</th>\n",
       "      <td>2023-08-01</td>\n",
       "      <td>710114</td>\n",
       "      <td>NA</td>\n",
       "      <td>56</td>\n",
       "      <td>23</td>\n",
       "    </tr>\n",
       "  </tbody>\n",
       "</table>\n",
       "</div>"
      ],
      "text/plain": [
       "        date  upc_code actual  forecast  mape\n",
       "0 2019-03-01    710114  565.0       523    23\n",
       "1 2019-04-01    710114  487.0       481    23\n",
       "2 2019-05-01    710114  526.0       527    23\n",
       "3 2019-06-01    710114  251.0       464    23\n",
       "0 2023-04-01    710114     NA        72    23\n",
       "1 2023-05-01    710114     NA       114    23\n",
       "2 2023-06-01    710114     NA         0    23\n",
       "3 2023-07-01    710114     NA         0    23\n",
       "4 2023-08-01    710114     NA        56    23"
      ]
     },
     "execution_count": 102,
     "metadata": {},
     "output_type": "execute_result"
    }
   ],
   "source": [
    "test"
   ]
  },
  {
   "cell_type": "code",
   "execution_count": 71,
   "metadata": {},
   "outputs": [],
   "source": [
    "test[['date', 'upc_code', 'forecast', 'mape']].to_csv('results.csv')"
   ]
  },
  {
   "cell_type": "code",
   "execution_count": null,
   "metadata": {},
   "outputs": [],
   "source": []
  }
 ],
 "metadata": {
  "kernelspec": {
   "display_name": "Python 3 (ipykernel)",
   "language": "python",
   "name": "python3"
  },
  "language_info": {
   "codemirror_mode": {
    "name": "ipython",
    "version": 3
   },
   "file_extension": ".py",
   "mimetype": "text/x-python",
   "name": "python",
   "nbconvert_exporter": "python",
   "pygments_lexer": "ipython3",
   "version": "3.9.7"
  }
 },
 "nbformat": 4,
 "nbformat_minor": 2
}
